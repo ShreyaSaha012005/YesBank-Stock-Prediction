{
  "nbformat": 4,
  "nbformat_minor": 0,
  "metadata": {
    "colab": {
      "private_outputs": true,
      "provenance": [],
      "collapsed_sections": [
        "vncDsAP0Gaoa",
        "FJNUwmbgGyua",
        "w6K7xa23Elo4",
        "yQaldy8SH6Dl",
        "mDgbUHAGgjLW",
        "O_i_v8NEhb9l",
        "HhfV-JJviCcP",
        "Y3lxredqlCYt",
        "3RnN4peoiCZX",
        "x71ZqKXriCWQ",
        "7hBIi_osiCS2",
        "JlHwYmJAmNHm",
        "35m5QtbWiB9F",
        "PoPl-ycgm1ru",
        "H0kj-8xxnORC",
        "nA9Y7ga8ng1Z",
        "PBTbrJXOngz2",
        "u3PMJOP6ngxN",
        "dauF4eBmngu3",
        "bKJF3rekwFvQ",
        "MSa1f5Uengrz",
        "GF8Ens_Soomf",
        "0wOQAZs5pc--",
        "K5QZ13OEpz2H",
        "lQ7QKXXCp7Bj",
        "448CDAPjqfQr",
        "KSlN3yHqYklG",
        "t6dVpIINYklI",
        "ijmpgYnKYklI",
        "-JiQyfWJYklI",
        "EM7whBJCYoAo",
        "fge-S5ZAYoAp",
        "85gYPyotYoAp",
        "RoGjAbkUYoAp",
        "4Of9eVA-YrdM",
        "iky9q4vBYrdO",
        "F6T5p64dYrdO",
        "y-Ehk30pYrdP",
        "bamQiAODYuh1",
        "QHF8YVU7Yuh3",
        "GwzvFGzlYuh3",
        "qYpmQ266Yuh3",
        "OH-pJp9IphqM",
        "bbFf2-_FphqN",
        "_ouA3fa0phqN",
        "Seke61FWphqN",
        "PIIx-8_IphqN",
        "t27r6nlMphqO",
        "r2jJGEOYphqO",
        "b0JNsNcRphqO",
        "BZR9WyysphqO",
        "jj7wYXLtphqO",
        "eZrbJ2SmphqO",
        "rFu4xreNphqO",
        "YJ55k-q6phqO",
        "gCFgpxoyphqP",
        "OVtJsKN_phqQ",
        "lssrdh5qphqQ",
        "U2RJ9gkRphqQ",
        "1M8mcRywphqQ",
        "tgIPom80phqQ",
        "JMzcOPDDphqR",
        "x-EpHcCOp1ci",
        "X_VqEhTip1ck",
        "8zGJKyg5p1ck",
        "PVzmfK_Ep1ck",
        "n3dbpmDWp1ck",
        "ylSl6qgtp1ck",
        "ZWILFDl5p1ck",
        "M7G43BXep1ck",
        "Ag9LCva-p1cl",
        "E6MkPsBcp1cl",
        "2cELzS2fp1cl",
        "3MPXvC8up1cl",
        "NC_X3p0fY2L0",
        "UV0SzAkaZNRQ",
        "YPEH6qLeZNRQ",
        "q29F0dvdveiT",
        "EXh0U9oCveiU",
        "22aHeOlLveiV",
        "g-ATYxFrGrvw",
        "Yfr_Vlr8HBkt",
        "8yEUt7NnHlrM",
        "tEA2Xm5dHt1r",
        "I79__PHVH19G",
        "Ou-I18pAyIpj",
        "fF3858GYyt-u",
        "4_0_7-oCpUZd",
        "hwyV_J3ipUZe",
        "3yB-zSqbpUZe",
        "dEUvejAfpUZe",
        "Fd15vwWVpUZf",
        "bn_IUdTipZyH",
        "49K5P_iCpZyH",
        "Nff-vKELpZyI",
        "kLW572S8pZyI",
        "dWbDXHzopZyI",
        "yLjJCtPM0KBk",
        "xiyOF9F70UgQ",
        "7wuGOrhz0itI",
        "id1riN9m0vUs",
        "578E2V7j08f6",
        "89xtkJwZ18nB",
        "67NQN5KX2AMe",
        "Iwf50b-R2tYG",
        "GMQiZwjn3iu7",
        "WVIkgGqN3qsr",
        "XkPnILGE3zoT",
        "Hlsf0x5436Go",
        "mT9DMSJo4nBL",
        "c49ITxTc407N",
        "OeJFEK0N496M",
        "9ExmJH0g5HBk",
        "cJNqERVU536h",
        "k5UmGsbsOxih",
        "T0VqWOYE6DLQ",
        "qBMux9mC6MCf",
        "-oLEiFgy-5Pf",
        "C74aWNz2AliB",
        "2DejudWSA-a0",
        "pEMng2IbBLp7",
        "rAdphbQ9Bhjc",
        "TNVZ9zx19K6k",
        "nqoHp30x9hH9",
        "rMDnDkt2B6du",
        "yiiVWRdJDDil",
        "1UUpS68QDMuG",
        "kexQrXU-DjzY",
        "T5CmagL3EC8N",
        "BhH2vgX9EjGr",
        "qjKvONjwE8ra",
        "P1XJ9OREExlT",
        "VFOzZv6IFROw",
        "TIqpNgepFxVj",
        "VfCC591jGiD4",
        "OB4l2ZhMeS1U",
        "ArJBuiUVfxKd",
        "4qY1EAkEfxKe",
        "PiV4Ypx8fxKe",
        "TfvqoZmBfxKf",
        "dJ2tPlVmpsJ0",
        "JWYfwnehpsJ1",
        "-jK_YjpMpsJ2",
        "HAih1iBOpsJ2",
        "zVGeBEFhpsJ2",
        "bmKjuQ-FpsJ3",
        "Fze-IPXLpx6K",
        "7AN1z2sKpx6M",
        "9PIHJqyupx6M",
        "_-qAgymDpx6N",
        "Z-hykwinpx6N",
        "h_CCil-SKHpo",
        "cBFFvTBNJzUa",
        "HvGl1hHyA_VK",
        "EyNgTHvd2WFk",
        "KH5McJBi2d8v",
        "iW_Lq9qf2h6X",
        "-Kee-DAl2viO",
        "gCX9965dhzqZ",
        "gIfDvo9L0UH2"
      ],
      "include_colab_link": true
    },
    "kernelspec": {
      "name": "python3",
      "display_name": "Python 3"
    },
    "language_info": {
      "name": "python"
    }
  },
  "cells": [
    {
      "cell_type": "markdown",
      "metadata": {
        "id": "view-in-github",
        "colab_type": "text"
      },
      "source": [
        "<a href=\"https://colab.research.google.com/github/ShreyaSaha012005/YesBank-Stock-Prediction/blob/main/YesBankStockPrediction.ipynb\" target=\"_parent\"><img src=\"https://colab.research.google.com/assets/colab-badge.svg\" alt=\"Open In Colab\"/></a>"
      ]
    },
    {
      "cell_type": "markdown",
      "source": [
        "# **Project Name**    - Yes Bank Stock Pediction ML Model\n",
        "\n"
      ],
      "metadata": {
        "id": "vncDsAP0Gaoa"
      }
    },
    {
      "cell_type": "markdown",
      "source": [
        "##### **Project Type**    - EDA/Regression\n",
        "##### **Contribution**    - Individual\n",
        "##### **Name -** Shreya Saha\n",
        "\n"
      ],
      "metadata": {
        "id": "beRrZCGUAJYm"
      }
    },
    {
      "cell_type": "markdown",
      "source": [
        "# **Project Summary -**"
      ],
      "metadata": {
        "id": "FJNUwmbgGyua"
      }
    },
    {
      "cell_type": "markdown",
      "source": [
        "Predicts Yes Bank’s monthly stock closing prices using machine learning models.\n",
        "Includes data cleaning, feature engineering, and exploratory data analysis (EDA).\n",
        "Compares Linear Regression and XGBoost with hyperparameter tuning.\n",
        "Visualizes actual vs predicted prices and model performance metrics."
      ],
      "metadata": {
        "id": "F6v_1wHtG2nS"
      }
    },
    {
      "cell_type": "markdown",
      "source": [
        "# **GitHub Link -**"
      ],
      "metadata": {
        "id": "w6K7xa23Elo4"
      }
    },
    {
      "cell_type": "markdown",
      "source": [
        "https://github.com/ShreyaSaha012005/YesBank-Stock-Prediction/blob/main/YesBankStockPrediction.ipynb"
      ],
      "metadata": {
        "id": "h1o69JH3Eqqn"
      }
    },
    {
      "cell_type": "markdown",
      "source": [
        "# **Problem Statement**\n"
      ],
      "metadata": {
        "id": "yQaldy8SH6Dl"
      }
    },
    {
      "cell_type": "markdown",
      "source": [
        "The goal of this project is to accurately predict the monthly closing stock prices of Yes Bank based on historical financial data. Given features such as opening price, highest and lowest prices of the month, and the date of the record, the task is to build a machine learning model that can forecast future closing prices. This will help in understanding stock trends, enabling informed financial decision-making for investors and analysts."
      ],
      "metadata": {
        "id": "DpeJGUA3kjGy"
      }
    },
    {
      "cell_type": "markdown",
      "source": [
        "# **General Guidelines** : -  "
      ],
      "metadata": {
        "id": "mDgbUHAGgjLW"
      }
    },
    {
      "cell_type": "markdown",
      "source": [
        "1.   Well-structured, formatted, and commented code is required.\n",
        "2.   Exception Handling, Production Grade Code & Deployment Ready Code will be a plus. Those students will be awarded some additional credits.\n",
        "     \n",
        "     The additional credits will have advantages over other students during Star Student selection.\n",
        "       \n",
        "             [ Note: - Deployment Ready Code is defined as, the whole .ipynb notebook should be executable in one go\n",
        "                       without a single error logged. ]\n",
        "\n",
        "3.   Each and every logic should have proper comments.\n",
        "4. You may add as many number of charts you want. Make Sure for each and every chart the following format should be answered.\n",
        "        \n",
        "\n",
        "```\n",
        "# Chart visualization code\n",
        "```\n",
        "            \n",
        "\n",
        "*   Why did you pick the specific chart?\n",
        "*   What is/are the insight(s) found from the chart?\n",
        "* Will the gained insights help creating a positive business impact?\n",
        "Are there any insights that lead to negative growth? Justify with specific reason.\n",
        "\n",
        "5. You have to create at least 15 logical & meaningful charts having important insights.\n",
        "\n",
        "\n",
        "[ Hints : - Do the Vizualization in  a structured way while following \"UBM\" Rule.\n",
        "\n",
        "U - Univariate Analysis,\n",
        "\n",
        "B - Bivariate Analysis (Numerical - Categorical, Numerical - Numerical, Categorical - Categorical)\n",
        "\n",
        "M - Multivariate Analysis\n",
        " ]\n",
        "\n",
        "\n",
        "\n",
        "\n",
        "\n",
        "6. You may add more ml algorithms for model creation. Make sure for each and every algorithm, the following format should be answered.\n",
        "\n",
        "\n",
        "*   Explain the ML Model used and it's performance using Evaluation metric Score Chart.\n",
        "\n",
        "\n",
        "*   Cross- Validation & Hyperparameter Tuning\n",
        "\n",
        "*   Have you seen any improvement? Note down the improvement with updates Evaluation metric Score Chart.\n",
        "\n",
        "*   Explain each evaluation metric's indication towards business and the business impact pf the ML model used.\n",
        "\n",
        "\n",
        "\n",
        "\n",
        "\n",
        "\n",
        "\n",
        "\n",
        "\n",
        "\n",
        "\n",
        "\n",
        "\n",
        "\n",
        "\n",
        "\n",
        "\n",
        "\n"
      ],
      "metadata": {
        "id": "ZrxVaUj-hHfC"
      }
    },
    {
      "cell_type": "markdown",
      "source": [
        "# ***Let's Begin !***"
      ],
      "metadata": {
        "id": "O_i_v8NEhb9l"
      }
    },
    {
      "cell_type": "markdown",
      "source": [
        "## ***1. Know Your Data***"
      ],
      "metadata": {
        "id": "HhfV-JJviCcP"
      }
    },
    {
      "cell_type": "markdown",
      "source": [
        "### Import Libraries"
      ],
      "metadata": {
        "id": "Y3lxredqlCYt"
      }
    },
    {
      "cell_type": "code",
      "source": [
        "# Data manipulation and analysis\n",
        "import pandas as pd\n",
        "import numpy as np\n",
        "\n",
        "# Data visualization\n",
        "import matplotlib.pyplot as plt\n",
        "import seaborn as sns\n",
        "\n",
        "# Machine learning models and tools\n",
        "from sklearn.model_selection import train_test_split, GridSearchCV\n",
        "from sklearn.linear_model import LinearRegression\n",
        "from sklearn.metrics import mean_squared_error, r2_score\n",
        "\n",
        "# Advanced model: XGBoost Regressor\n",
        "from xgboost import XGBRegressor\n"
      ],
      "metadata": {
        "id": "M8Vqi-pPk-HR"
      },
      "execution_count": null,
      "outputs": []
    },
    {
      "cell_type": "markdown",
      "source": [
        "### Dataset Loading"
      ],
      "metadata": {
        "id": "3RnN4peoiCZX"
      }
    },
    {
      "cell_type": "code",
      "source": [
        "# Load the CSV file into a pandas DataFrame\n",
        "df = pd.read_csv('/content/data_YesBank_StockPrices.csv')  # Update the path if your file is elsewhere\n",
        "\n",
        "# Display the first 5 rows to verify the data is loaded correctly\n",
        "df.head()\n"
      ],
      "metadata": {
        "id": "4CkvbW_SlZ_R"
      },
      "execution_count": null,
      "outputs": []
    },
    {
      "cell_type": "markdown",
      "source": [
        "### Dataset First View"
      ],
      "metadata": {
        "id": "x71ZqKXriCWQ"
      }
    },
    {
      "cell_type": "code",
      "source": [
        "# Display the first 5 rows\n",
        "print(\"🔹 First 5 records:\")\n",
        "print(df.head())\n",
        "\n",
        "# Display basic information about data types and missing values\n",
        "print(\"\\n🔹 Dataset Info:\")\n",
        "print(df.info())\n",
        "\n",
        "# Display summary statistics for numerical columns\n",
        "print(\"\\n🔹 Summary Statistics:\")\n",
        "print(df.describe())\n"
      ],
      "metadata": {
        "id": "LWNFOSvLl09H"
      },
      "execution_count": null,
      "outputs": []
    },
    {
      "cell_type": "markdown",
      "source": [
        "### Dataset Rows & Columns count"
      ],
      "metadata": {
        "id": "7hBIi_osiCS2"
      }
    },
    {
      "cell_type": "code",
      "source": [
        "# Get the number of rows and columns\n",
        "rows, columns = df.shape\n",
        "\n",
        "print(f\"🔢 Number of Rows: {rows}\")\n",
        "print(f\"🔠 Number of Columns: {columns}\")\n"
      ],
      "metadata": {
        "id": "Kllu7SJgmLij"
      },
      "execution_count": null,
      "outputs": []
    },
    {
      "cell_type": "markdown",
      "source": [
        "### Dataset Information"
      ],
      "metadata": {
        "id": "JlHwYmJAmNHm"
      }
    },
    {
      "cell_type": "code",
      "source": [
        "# Show the column names, data types, non-null counts, and memory usage\n",
        "print(\" Dataset Information:\\n\")\n",
        "df.info()\n"
      ],
      "metadata": {
        "id": "e9hRXRi6meOf"
      },
      "execution_count": null,
      "outputs": []
    },
    {
      "cell_type": "markdown",
      "source": [
        "#### Duplicate Values"
      ],
      "metadata": {
        "id": "35m5QtbWiB9F"
      }
    },
    {
      "cell_type": "code",
      "source": [
        "# Check for number of duplicate rows\n",
        "duplicate_count = df.duplicated().sum()\n",
        "print(f\"🔁 Number of Duplicate Rows: {duplicate_count}\")\n",
        "\n",
        "# Remove duplicates if any\n",
        "df = df.drop_duplicates()\n",
        "\n",
        "# Confirm removal\n",
        "print(f\"✅ Dataset shape after removing duplicates: {df.shape}\")\n"
      ],
      "metadata": {
        "id": "1sLdpKYkmox0"
      },
      "execution_count": null,
      "outputs": []
    },
    {
      "cell_type": "markdown",
      "source": [
        "#### Missing Values/Null Values"
      ],
      "metadata": {
        "id": "PoPl-ycgm1ru"
      }
    },
    {
      "cell_type": "code",
      "source": [
        "# Check for missing/null values in each column\n",
        "missing_values = df.isnull().sum()\n",
        "\n",
        "print(\" Missing/Null Values in Each Column:\\n\")\n",
        "print(missing_values)\n",
        "\n",
        "# Optional: Check if the dataset has *any* null values at all\n",
        "if df.isnull().values.any():\n",
        "    print(\"\\n Warning: Dataset contains missing values.\")\n",
        "else:\n",
        "    print(\"\\n No missing values found in the dataset.\")\n"
      ],
      "metadata": {
        "id": "GgHWkxvamxVg"
      },
      "execution_count": null,
      "outputs": []
    },
    {
      "cell_type": "code",
      "source": [
        "plt.figure(figsize=(8, 5))\n",
        "sns.heatmap(df.isnull(), cbar=False, cmap='Reds', yticklabels=False)\n",
        "plt.title(\" Missing Values Heatmap\")\n",
        "plt.show()\n"
      ],
      "metadata": {
        "id": "3q5wnI3om9sJ"
      },
      "execution_count": null,
      "outputs": []
    },
    {
      "cell_type": "markdown",
      "source": [
        "### What did you know about your dataset?"
      ],
      "metadata": {
        "id": "H0kj-8xxnORC"
      }
    },
    {
      "cell_type": "markdown",
      "source": [
        "The dataset contains historical monthly stock price data for Yes Bank, with columns including date, opening price, highest and lowest prices of the month, and closing price. The date column is in a month-year format (%b-%y) and needs to be parsed for time-based analysis. There are no missing or duplicate values after cleaning. The data is numerical and continuous in nature, making it suitable for regression-based machine learning models. The closing price, which is the prediction target, shows a fluctuating trend over time, which can be analyzed using models like Linear Regression and XGBoost."
      ],
      "metadata": {
        "id": "gfoNAAC-nUe_"
      }
    },
    {
      "cell_type": "markdown",
      "source": [
        "## ***2. Understanding Your Variables***"
      ],
      "metadata": {
        "id": "nA9Y7ga8ng1Z"
      }
    },
    {
      "cell_type": "code",
      "source": [
        "# Display all column names in the dataset\n",
        "print(\"🗂️ Dataset Columns:\\n\")\n",
        "print(df.columns.tolist())\n"
      ],
      "metadata": {
        "id": "j7xfkqrt5Ag5"
      },
      "execution_count": null,
      "outputs": []
    },
    {
      "cell_type": "code",
      "source": [
        "# Generate descriptive statistics for numerical columns\n",
        "print(\"📊 Summary Statistics of the Dataset:\\n\")\n",
        "print(df.describe())\n"
      ],
      "metadata": {
        "id": "DnOaZdaE5Q5t"
      },
      "execution_count": null,
      "outputs": []
    },
    {
      "cell_type": "markdown",
      "source": [
        "### Variables Description"
      ],
      "metadata": {
        "id": "PBTbrJXOngz2"
      }
    },
    {
      "cell_type": "markdown",
      "source": [
        "The dataset includes the following variables:\n",
        "\n",
        "Date: The month and year of the stock record (format: %b-%y), used to extract time-based features like month and year.\n",
        "\n",
        "Open: The stock's opening price for the given month.\n",
        "\n",
        "High: The highest price the stock reached during the month.\n",
        "\n",
        "Low: The lowest price during the same month.\n",
        "\n",
        "Close: The closing price of the stock — this is the target variable for prediction."
      ],
      "metadata": {
        "id": "aJV4KIxSnxay"
      }
    },
    {
      "cell_type": "markdown",
      "source": [
        "### Check Unique Values for each variable."
      ],
      "metadata": {
        "id": "u3PMJOP6ngxN"
      }
    },
    {
      "cell_type": "code",
      "source": [
        "# Display the number of unique values in each column\n",
        "print(\"🔢 Unique Values in Each Column:\\n\")\n",
        "print(df.nunique())\n"
      ],
      "metadata": {
        "id": "zms12Yq5n-jE"
      },
      "execution_count": null,
      "outputs": []
    },
    {
      "cell_type": "markdown",
      "source": [
        "## 3. ***Data Wrangling***"
      ],
      "metadata": {
        "id": "dauF4eBmngu3"
      }
    },
    {
      "cell_type": "markdown",
      "source": [
        "### Data Wrangling Code"
      ],
      "metadata": {
        "id": "bKJF3rekwFvQ"
      }
    },
    {
      "cell_type": "code",
      "source": [
        "#  Step 1: Standardize column names (lowercase, strip spaces)\n",
        "df.columns = df.columns.str.strip().str.lower()\n",
        "\n",
        "#  Step 2: Parse 'date' column from '%b-%y' format (e.g., 'Jul-05')\n",
        "df['date'] = pd.to_datetime(df['date'], format='%b-%y')\n",
        "\n",
        "#  Step 3: Create new time-based features\n",
        "df['month'] = df['date'].dt.month\n",
        "df['year'] = df['date'].dt.year\n",
        "\n",
        "#  Step 4: Sort dataset by date (optional but useful for time-series)\n",
        "df = df.sort_values('date').reset_index(drop=True)\n",
        "\n",
        "#  Step 5: Final check\n",
        "print(\" Cleaned and Wrangled Dataset Preview:\\n\")\n",
        "print(df.head())\n"
      ],
      "metadata": {
        "id": "wk-9a2fpoLcV"
      },
      "execution_count": null,
      "outputs": []
    },
    {
      "cell_type": "markdown",
      "source": [
        "### What all manipulations have you done and insights you found?"
      ],
      "metadata": {
        "id": "MSa1f5Uengrz"
      }
    },
    {
      "cell_type": "markdown",
      "source": [
        "We cleaned the dataset by removing duplicate records and checking for missing values. Column names were standardized to lowercase for consistency. The date column, originally in %b-%y format, was converted to datetime, and new features such as month and year were extracted for time-based analysis. We sorted the data chronologically to maintain temporal order.\n",
        "\n",
        "From the exploratory data analysis (EDA), we observed that the closing prices showed significant fluctuations over time. The correlation heatmap revealed a strong positive correlation between the open, high, and close prices, indicating these features are good predictors for modeling."
      ],
      "metadata": {
        "id": "LbyXE7I1olp8"
      }
    },
    {
      "cell_type": "markdown",
      "source": [
        "## ***4. Data Vizualization, Storytelling & Experimenting with charts : Understand the relationships between variables***"
      ],
      "metadata": {
        "id": "GF8Ens_Soomf"
      }
    },
    {
      "cell_type": "markdown",
      "source": [
        "#### Chart - 1"
      ],
      "metadata": {
        "id": "0wOQAZs5pc--"
      }
    },
    {
      "cell_type": "code",
      "source": [
        "import seaborn as sns\n",
        "import matplotlib.pyplot as plt\n",
        "\n",
        "# Line plot of closing price trend over time\n",
        "plt.figure(figsize=(10, 5))\n",
        "sns.lineplot(x='date', y='close', data=df)\n",
        "plt.title(\"1. Closing Price Over Time\")\n",
        "plt.xlabel(\"Date\")\n",
        "plt.ylabel(\"Closing Price\")\n",
        "plt.xticks(rotation=45)\n",
        "plt.tight_layout()\n",
        "plt.show()\n"
      ],
      "metadata": {
        "id": "7v_ESjsspbW7"
      },
      "execution_count": null,
      "outputs": []
    },
    {
      "cell_type": "markdown",
      "source": [
        "##### 1. Why did you pick the specific chart?"
      ],
      "metadata": {
        "id": "K5QZ13OEpz2H"
      }
    },
    {
      "cell_type": "markdown",
      "source": [
        "I chose a line plot because it is ideal for showing changes and trends over a continuous variable like time. In financial data, the closing price over time is one of the most insightful indicators of performance."
      ],
      "metadata": {
        "id": "XESiWehPqBRc"
      }
    },
    {
      "cell_type": "markdown",
      "source": [
        "##### 2. What is/are the insight(s) found from the chart?"
      ],
      "metadata": {
        "id": "lQ7QKXXCp7Bj"
      }
    },
    {
      "cell_type": "markdown",
      "source": [
        "Trends (upward/downward/stable)\n",
        "\n",
        "Volatility or sudden price changes\n",
        "\n",
        "Patterns across years or months (seasonality)Answer Here"
      ],
      "metadata": {
        "id": "C_j1G7yiqdRP"
      }
    },
    {
      "cell_type": "markdown",
      "source": [
        "##### 3. Will the gained insights help creating a positive business impact?\n",
        "Are there any insights that lead to negative growth? Justify with specific reason."
      ],
      "metadata": {
        "id": "448CDAPjqfQr"
      }
    },
    {
      "cell_type": "markdown",
      "source": [
        "This chart helps investors and analysts identify long-term movement in the stock, which is crucial for strategic investment timing, risk assessment, and understanding how market events might have impacted the stock over different time periods."
      ],
      "metadata": {
        "id": "3cspy4FjqxJW"
      }
    },
    {
      "cell_type": "markdown",
      "source": [
        "#### Chart - 2"
      ],
      "metadata": {
        "id": "KSlN3yHqYklG"
      }
    },
    {
      "cell_type": "code",
      "source": [
        "import seaborn as sns\n",
        "import matplotlib.pyplot as plt\n",
        "\n",
        "plt.figure(figsize=(12, 6))\n",
        "sns.boxplot(x='year', y='close', data=df, palette='Set2')\n",
        "plt.title(\"3. Year-wise Distribution of Closing Prices\")\n",
        "plt.xlabel(\"Year\")\n",
        "plt.ylabel(\"Closing Price\")\n",
        "plt.xticks(rotation=45)\n",
        "plt.tight_layout()\n",
        "plt.show()\n"
      ],
      "metadata": {
        "id": "R4YgtaqtYklH"
      },
      "execution_count": null,
      "outputs": []
    },
    {
      "cell_type": "markdown",
      "source": [
        "##### 1. Why did you pick the specific chart?"
      ],
      "metadata": {
        "id": "t6dVpIINYklI"
      }
    },
    {
      "cell_type": "markdown",
      "source": [
        "A boxplot is perfect for visualizing distribution, spread, and outliers across categorical groups like years"
      ],
      "metadata": {
        "id": "5aaW0BYyYklI"
      }
    },
    {
      "cell_type": "markdown",
      "source": [
        "##### 2. What is/are the insight(s) found from the chart?"
      ],
      "metadata": {
        "id": "ijmpgYnKYklI"
      }
    },
    {
      "cell_type": "markdown",
      "source": [
        "Which years had more price volatility\n",
        "\n",
        "Presence of outlier months (extreme highs or lows)\n",
        "\n",
        "Median closing prices per year"
      ],
      "metadata": {
        "id": "PSx9atu2YklI"
      }
    },
    {
      "cell_type": "markdown",
      "source": [
        "##### 3. Will the gained insights help creating a positive business impact?\n",
        "Are there any insights that lead to negative growth? Justify with specific reason."
      ],
      "metadata": {
        "id": "-JiQyfWJYklI"
      }
    },
    {
      "cell_type": "markdown",
      "source": [
        "This chart helps analysts identify high-risk vs stable years, which is useful for understanding market shocks, economic policy impacts, or performance cycles. It can also aid in evaluating long-term risk management strategies."
      ],
      "metadata": {
        "id": "BcBbebzrYklV"
      }
    },
    {
      "cell_type": "markdown",
      "source": [
        "#### Chart - 3"
      ],
      "metadata": {
        "id": "EM7whBJCYoAo"
      }
    },
    {
      "cell_type": "code",
      "source": [
        "import seaborn as sns\n",
        "import matplotlib.pyplot as plt\n",
        "\n",
        "# Group by month and calculate average closing prices\n",
        "monthly_avg = df.groupby('month')['close'].mean().reset_index()\n",
        "\n",
        "plt.figure(figsize=(10, 5))\n",
        "sns.barplot(x='month', y='close', data=monthly_avg, palette='Blues_d')\n",
        "plt.title(\"4. Average Monthly Closing Prices\")\n",
        "plt.xlabel(\"Month\")\n",
        "plt.ylabel(\"Average Closing Price\")\n",
        "plt.xticks(rotation=0)\n",
        "plt.tight_layout()\n",
        "plt.show()\n"
      ],
      "metadata": {
        "id": "t6GMdE67YoAp"
      },
      "execution_count": null,
      "outputs": []
    },
    {
      "cell_type": "markdown",
      "source": [
        "##### 1. Why did you pick the specific chart?"
      ],
      "metadata": {
        "id": "fge-S5ZAYoAp"
      }
    },
    {
      "cell_type": "markdown",
      "source": [
        "A bar plot makes it easy to compare average values across fixed categories, like months. It’s ideal for spotting seasonal trends."
      ],
      "metadata": {
        "id": "5dBItgRVYoAp"
      }
    },
    {
      "cell_type": "markdown",
      "source": [
        "##### 2. What is/are the insight(s) found from the chart?"
      ],
      "metadata": {
        "id": "85gYPyotYoAp"
      }
    },
    {
      "cell_type": "markdown",
      "source": [
        "Which months tend to have higher or lower closing prices\n",
        "\n",
        "Seasonality or cyclical market behavior\n",
        "\n",
        "Temporal patterns in stock performance"
      ],
      "metadata": {
        "id": "4jstXR6OYoAp"
      }
    },
    {
      "cell_type": "markdown",
      "source": [
        "##### 3. Will the gained insights help creating a positive business impact?\n",
        "Are there any insights that lead to negative growth? Justify with specific reason."
      ],
      "metadata": {
        "id": "RoGjAbkUYoAp"
      }
    },
    {
      "cell_type": "markdown",
      "source": [
        "This can help identify the best and worst months for investment. For instance, if certain months show consistent gains, traders may adopt seasonal investment strategies to maximize profit or avoid losses."
      ],
      "metadata": {
        "id": "zfJ8IqMcYoAp"
      }
    },
    {
      "cell_type": "markdown",
      "source": [
        "#### Chart - 4"
      ],
      "metadata": {
        "id": "4Of9eVA-YrdM"
      }
    },
    {
      "cell_type": "code",
      "source": [
        "import seaborn as sns\n",
        "import matplotlib.pyplot as plt\n",
        "\n",
        "plt.figure(figsize=(8, 6))\n",
        "sns.scatterplot(x='open', y='close', data=df, color='purple')\n",
        "plt.title(\"5. Open vs Close Price\")\n",
        "plt.xlabel(\"Opening Price\")\n",
        "plt.ylabel(\"Closing Price\")\n",
        "plt.tight_layout()\n",
        "plt.show()\n"
      ],
      "metadata": {
        "id": "irlUoxc8YrdO"
      },
      "execution_count": null,
      "outputs": []
    },
    {
      "cell_type": "markdown",
      "source": [
        "##### 1. Why did you pick the specific chart?"
      ],
      "metadata": {
        "id": "iky9q4vBYrdO"
      }
    },
    {
      "cell_type": "markdown",
      "source": [
        "A scatter plot is ideal for analyzing the relationship between two continuous variables, such as open and close prices."
      ],
      "metadata": {
        "id": "aJRCwT6DYrdO"
      }
    },
    {
      "cell_type": "markdown",
      "source": [
        "##### 2. What is/are the insight(s) found from the chart?"
      ],
      "metadata": {
        "id": "F6T5p64dYrdO"
      }
    },
    {
      "cell_type": "markdown",
      "source": [
        "Whether there is a linear or non-linear pattern\n",
        "\n",
        "How closely the opening price predicts the closing price\n",
        "\n",
        "Presence of any outliers or market anomalies"
      ],
      "metadata": {
        "id": "Xx8WAJvtYrdO"
      }
    },
    {
      "cell_type": "markdown",
      "source": [
        "##### 3. Will the gained insights help creating a positive business impact?\n",
        "Are there any insights that lead to negative growth? Justify with specific reason."
      ],
      "metadata": {
        "id": "y-Ehk30pYrdP"
      }
    },
    {
      "cell_type": "markdown",
      "source": [
        "A strong diagonal trend suggests that the opening price is a good indicator of the closing price, which is valuable for intraday trading decisions. If the dots are scattered widely, it indicates volatile or unpredictable movement within the day."
      ],
      "metadata": {
        "id": "jLNxxz7MYrdP"
      }
    },
    {
      "cell_type": "markdown",
      "source": [
        "#### Chart - 5"
      ],
      "metadata": {
        "id": "bamQiAODYuh1"
      }
    },
    {
      "cell_type": "code",
      "source": [
        "import seaborn as sns\n",
        "import matplotlib.pyplot as plt\n",
        "\n",
        "# Calculate the price range if not already done\n",
        "df['range'] = df['high'] - df['low']\n",
        "\n",
        "plt.figure(figsize=(10, 5))\n",
        "sns.lineplot(x='date', y='range', data=df, color='crimson')\n",
        "plt.title(\"6. High-Low Price Range Over Time\")\n",
        "plt.xlabel(\"Date\")\n",
        "plt.ylabel(\"Price Range (High - Low)\")\n",
        "plt.xticks(rotation=45)\n",
        "plt.tight_layout()\n",
        "plt.show()\n"
      ],
      "metadata": {
        "id": "TIJwrbroYuh3"
      },
      "execution_count": null,
      "outputs": []
    },
    {
      "cell_type": "markdown",
      "source": [
        "##### 1. Why did you pick the specific chart?"
      ],
      "metadata": {
        "id": "QHF8YVU7Yuh3"
      }
    },
    {
      "cell_type": "markdown",
      "source": [
        "A line plot over time helps us visualize volatility, measured here as the difference between daily high and low prices."
      ],
      "metadata": {
        "id": "dcxuIMRPYuh3"
      }
    },
    {
      "cell_type": "markdown",
      "source": [
        "##### 2. What is/are the insight(s) found from the chart?"
      ],
      "metadata": {
        "id": "GwzvFGzlYuh3"
      }
    },
    {
      "cell_type": "markdown",
      "source": [
        "How volatile the stock is month-to-month\n",
        "\n",
        "When large price swings occurred (e.g., during market events)\n",
        "\n",
        "Whether volatility is increasing or decreasing over time"
      ],
      "metadata": {
        "id": "uyqkiB8YYuh3"
      }
    },
    {
      "cell_type": "markdown",
      "source": [
        "##### 3. Will the gained insights help creating a positive business impact?\n",
        "Are there any insights that lead to negative growth? Justify with specific reason."
      ],
      "metadata": {
        "id": "qYpmQ266Yuh3"
      }
    },
    {
      "cell_type": "markdown",
      "source": [
        "Periods with large price ranges reflect uncertainty or heavy trading activity, which can indicate potential risk or opportunity zones for investors and day traders."
      ],
      "metadata": {
        "id": "_WtzZ_hCYuh4"
      }
    },
    {
      "cell_type": "markdown",
      "source": [
        "#### Chart - 6"
      ],
      "metadata": {
        "id": "OH-pJp9IphqM"
      }
    },
    {
      "cell_type": "code",
      "source": [
        "import seaborn as sns\n",
        "import matplotlib.pyplot as plt\n",
        "\n",
        "# Calculate yearly average close\n",
        "yearly_avg = df.groupby('year')['close'].mean().reset_index()\n",
        "\n",
        "plt.figure(figsize=(10, 5))\n",
        "sns.lineplot(x='year', y='close', data=yearly_avg, marker='o', color='green')\n",
        "plt.title(\"7. Yearly Average Closing Prices\")\n",
        "plt.xlabel(\"Year\")\n",
        "plt.ylabel(\"Average Closing Price\")\n",
        "plt.tight_layout()\n",
        "plt.show()\n"
      ],
      "metadata": {
        "id": "kuRf4wtuphqN"
      },
      "execution_count": null,
      "outputs": []
    },
    {
      "cell_type": "markdown",
      "source": [
        "##### 1. Why did you pick the specific chart?"
      ],
      "metadata": {
        "id": "bbFf2-_FphqN"
      }
    },
    {
      "cell_type": "markdown",
      "source": [
        "A line plot with yearly averages helps in understanding the long-term performance of the stock and smooths out short-term noise."
      ],
      "metadata": {
        "id": "loh7H2nzphqN"
      }
    },
    {
      "cell_type": "markdown",
      "source": [
        "##### 2. What is/are the insight(s) found from the chart?"
      ],
      "metadata": {
        "id": "_ouA3fa0phqN"
      }
    },
    {
      "cell_type": "markdown",
      "source": [
        "The overall growth or decline trend\n",
        "\n",
        "How each year compares in terms of stock performance\n",
        "\n",
        "Helps investors make macro-level decisions"
      ],
      "metadata": {
        "id": "VECbqPI7phqN"
      }
    },
    {
      "cell_type": "markdown",
      "source": [
        "##### 3. Will the gained insights help creating a positive business impact?\n",
        "Are there any insights that lead to negative growth? Justify with specific reason."
      ],
      "metadata": {
        "id": "Seke61FWphqN"
      }
    },
    {
      "cell_type": "markdown",
      "source": [
        "This chart is essential for long-term investors. A consistent rise suggests strong fundamentals, while a fall may point to issues within the company or industry, guiding portfolio rebalancing or divestment."
      ],
      "metadata": {
        "id": "DW4_bGpfphqN"
      }
    },
    {
      "cell_type": "markdown",
      "source": [
        "#### Chart - 7"
      ],
      "metadata": {
        "id": "PIIx-8_IphqN"
      }
    },
    {
      "cell_type": "code",
      "source": [
        "import seaborn as sns\n",
        "import matplotlib.pyplot as plt\n",
        "\n",
        "plt.figure(figsize=(10, 5))\n",
        "sns.violinplot(x='month', y='close', data=df, palette='viridis')\n",
        "plt.title(\"8. Monthly Closing Price Distribution\")\n",
        "plt.xlabel(\"Month\")\n",
        "plt.ylabel(\"Closing Price\")\n",
        "plt.tight_layout()\n",
        "plt.show()\n"
      ],
      "metadata": {
        "id": "lqAIGUfyphqO"
      },
      "execution_count": null,
      "outputs": []
    },
    {
      "cell_type": "markdown",
      "source": [
        "##### 1. Why did you pick the specific chart?"
      ],
      "metadata": {
        "id": "t27r6nlMphqO"
      }
    },
    {
      "cell_type": "markdown",
      "source": [
        "A violin plot combines the features of a boxplot and a KDE (density plot), making it perfect for visualizing price distributions with spread and symmetry across each month."
      ],
      "metadata": {
        "id": "iv6ro40sphqO"
      }
    },
    {
      "cell_type": "markdown",
      "source": [
        "##### 2. What is/are the insight(s) found from the chart?"
      ],
      "metadata": {
        "id": "r2jJGEOYphqO"
      }
    },
    {
      "cell_type": "markdown",
      "source": [
        "How prices are distributed within each month\n",
        "\n",
        "Whether the distribution is skewed or balanced\n",
        "\n",
        "Which months have high variability (risk)"
      ],
      "metadata": {
        "id": "Po6ZPi4hphqO"
      }
    },
    {
      "cell_type": "markdown",
      "source": [
        "##### 3. Will the gained insights help creating a positive business impact?\n",
        "Are there any insights that lead to negative growth? Justify with specific reason."
      ],
      "metadata": {
        "id": "b0JNsNcRphqO"
      }
    },
    {
      "cell_type": "markdown",
      "source": [
        "Traders and analysts can identify which months are more volatile, guiding seasonal strategies. For example, wider violins in May or December might indicate market uncertainty or high trading activity during those periods."
      ],
      "metadata": {
        "id": "xvSq8iUTphqO"
      }
    },
    {
      "cell_type": "markdown",
      "source": [
        "#### Chart - 8"
      ],
      "metadata": {
        "id": "BZR9WyysphqO"
      }
    },
    {
      "cell_type": "code",
      "source": [
        "import seaborn as sns\n",
        "import matplotlib.pyplot as plt\n",
        "\n",
        "# Only select relevant numeric columns\n",
        "sns.pairplot(df[['open', 'high', 'low', 'close']], diag_kind='kde')\n",
        "plt.suptitle(\"9. Pairwise Relationships Between Price Features\", y=1.02)\n",
        "plt.tight_layout()\n",
        "plt.show()\n"
      ],
      "metadata": {
        "id": "TdPTWpAVphqO"
      },
      "execution_count": null,
      "outputs": []
    },
    {
      "cell_type": "markdown",
      "source": [
        "##### 1. Why did you pick the specific chart?"
      ],
      "metadata": {
        "id": "jj7wYXLtphqO"
      }
    },
    {
      "cell_type": "markdown",
      "source": [
        "A pairplot visualizes pairwise relationships between multiple numeric variables at once, both as scatter plots and distributions."
      ],
      "metadata": {
        "id": "Ob8u6rCTphqO"
      }
    },
    {
      "cell_type": "markdown",
      "source": [
        "##### 2. What is/are the insight(s) found from the chart?"
      ],
      "metadata": {
        "id": "eZrbJ2SmphqO"
      }
    },
    {
      "cell_type": "markdown",
      "source": [
        "How each feature (e.g., open, high, low, close) relates to the others\n",
        "\n",
        "If relationships are linear or non-linear\n",
        "\n",
        "The distribution of each individual variable"
      ],
      "metadata": {
        "id": "mZtgC_hjphqO"
      }
    },
    {
      "cell_type": "markdown",
      "source": [
        "##### 3. Will the gained insights help creating a positive business impact?\n",
        "Are there any insights that lead to negative growth? Justify with specific reason."
      ],
      "metadata": {
        "id": "rFu4xreNphqO"
      }
    },
    {
      "cell_type": "markdown",
      "source": [
        "This chart helps identify which features can be strong predictors for others (like open vs close). It’s also a quick diagnostic tool to detect outliers or multicollinearity, both of which impact model performance and decision-making.\n",
        "\n"
      ],
      "metadata": {
        "id": "ey_0qi68phqO"
      }
    },
    {
      "cell_type": "markdown",
      "source": [
        "#### Chart - 9"
      ],
      "metadata": {
        "id": "YJ55k-q6phqO"
      }
    },
    {
      "cell_type": "code",
      "source": [
        "import seaborn as sns\n",
        "import matplotlib.pyplot as plt\n",
        "\n",
        "plt.figure(figsize=(10, 5))\n",
        "sns.histplot(df['close'], kde=True, bins=20, color='skyblue')\n",
        "plt.title(\"10. Distribution of Closing Prices\")\n",
        "plt.xlabel(\"Closing Price\")\n",
        "plt.ylabel(\"Frequency\")\n",
        "plt.tight_layout()\n",
        "plt.show()\n"
      ],
      "metadata": {
        "id": "B2aS4O1ophqO"
      },
      "execution_count": null,
      "outputs": []
    },
    {
      "cell_type": "markdown",
      "source": [
        "##### 1. Why did you pick the specific chart?"
      ],
      "metadata": {
        "id": "gCFgpxoyphqP"
      }
    },
    {
      "cell_type": "markdown",
      "source": [
        "A histogram with KDE (Kernel Density Estimate) helps visualize how a single variable is distributed — in this case, the closing price."
      ],
      "metadata": {
        "id": "TVxDimi2phqP"
      }
    },
    {
      "cell_type": "markdown",
      "source": [
        "##### 2. What is/are the insight(s) found from the chart?"
      ],
      "metadata": {
        "id": "OVtJsKN_phqQ"
      }
    },
    {
      "cell_type": "markdown",
      "source": [
        "Whether the distribution is normal, skewed, or bimodal\n",
        "\n",
        "If there are clusters or gaps in prices\n",
        "\n",
        "Which price ranges are most common"
      ],
      "metadata": {
        "id": "ngGi97qjphqQ"
      }
    },
    {
      "cell_type": "markdown",
      "source": [
        "##### 3. Will the gained insights help creating a positive business impact?\n",
        "Are there any insights that lead to negative growth? Justify with specific reason."
      ],
      "metadata": {
        "id": "lssrdh5qphqQ"
      }
    },
    {
      "cell_type": "markdown",
      "source": [
        "This tells traders where the stock price stabilizes most often. For instance, if most prices cluster between ₹50–₹60, this could be a strong support/resistance level, guiding technical analysis and trading decisions"
      ],
      "metadata": {
        "id": "tBpY5ekJphqQ"
      }
    },
    {
      "cell_type": "markdown",
      "source": [
        "#### Chart - 10"
      ],
      "metadata": {
        "id": "U2RJ9gkRphqQ"
      }
    },
    {
      "cell_type": "code",
      "source": [
        "import seaborn as sns\n",
        "import matplotlib.pyplot as plt\n",
        "import pandas as pd\n",
        "\n",
        "# Group by year and month to calculate average closing prices\n",
        "monthly_trend = df.groupby(['year', 'month'])['close'].mean().reset_index()\n",
        "\n",
        "# Create a proper datetime column for plotting\n",
        "monthly_trend['date'] = pd.to_datetime(monthly_trend[['year', 'month']].assign(day=1))\n",
        "\n",
        "# Plot the line chart\n",
        "plt.figure(figsize=(10, 5))\n",
        "sns.lineplot(x='date', y='close', data=monthly_trend, marker='o')\n",
        "plt.title(\"11. Monthly Average Closing Price Trend\")\n",
        "plt.xlabel(\"Month-Year\")\n",
        "plt.ylabel(\"Avg Closing Price\")\n",
        "plt.xticks(rotation=45)\n",
        "plt.tight_layout()\n",
        "plt.show()\n"
      ],
      "metadata": {
        "id": "GM7a4YP4phqQ"
      },
      "execution_count": null,
      "outputs": []
    },
    {
      "cell_type": "markdown",
      "source": [
        "##### 1. Why did you pick the specific chart?"
      ],
      "metadata": {
        "id": "1M8mcRywphqQ"
      }
    },
    {
      "cell_type": "markdown",
      "source": [
        "A line chart over monthly intervals allows you to capture short-term and medium-term movements in the stock's performance, while still smoothing data through monthly averages."
      ],
      "metadata": {
        "id": "8agQvks0phqQ"
      }
    },
    {
      "cell_type": "markdown",
      "source": [
        "##### 2. What is/are the insight(s) found from the chart?"
      ],
      "metadata": {
        "id": "tgIPom80phqQ"
      }
    },
    {
      "cell_type": "markdown",
      "source": [
        "Monthly stock behavior over years\n",
        "\n",
        "Trends and reversals (e.g., from bullish to bearish)\n",
        "\n",
        "Post-event recovery or decline (e.g., after a crisis or earnings release)"
      ],
      "metadata": {
        "id": "Qp13pnNzphqQ"
      }
    },
    {
      "cell_type": "markdown",
      "source": [
        "##### 3. Will the gained insights help creating a positive business impact?\n",
        "Are there any insights that lead to negative growth? Justify with specific reason."
      ],
      "metadata": {
        "id": "JMzcOPDDphqR"
      }
    },
    {
      "cell_type": "markdown",
      "source": [
        "This chart is vital for identifying emerging patterns and market cycles. For example, if closing prices consistently increase after Q2 each year, investors may plan to buy before the rally."
      ],
      "metadata": {
        "id": "R4Ka1PC2phqR"
      }
    },
    {
      "cell_type": "markdown",
      "source": [
        "#### Chart - 11"
      ],
      "metadata": {
        "id": "x-EpHcCOp1ci"
      }
    },
    {
      "cell_type": "code",
      "source": [
        "import seaborn as sns\n",
        "import matplotlib.pyplot as plt\n",
        "\n",
        "plt.figure(figsize=(10, 5))\n",
        "sns.countplot(x='year', data=df, palette='Set3')\n",
        "plt.title(\"12. Number of Records per Year\")\n",
        "plt.xlabel(\"Year\")\n",
        "plt.ylabel(\"Record Count\")\n",
        "plt.tight_layout()\n",
        "plt.show()\n"
      ],
      "metadata": {
        "id": "mAQTIvtqp1cj"
      },
      "execution_count": null,
      "outputs": []
    },
    {
      "cell_type": "markdown",
      "source": [
        "##### 1. Why did you pick the specific chart?"
      ],
      "metadata": {
        "id": "X_VqEhTip1ck"
      }
    },
    {
      "cell_type": "markdown",
      "source": [
        "A countplot is excellent for showing how many data entries (records) exist per category — here, year."
      ],
      "metadata": {
        "id": "-vsMzt_np1ck"
      }
    },
    {
      "cell_type": "markdown",
      "source": [
        "##### 2. What is/are the insight(s) found from the chart?"
      ],
      "metadata": {
        "id": "8zGJKyg5p1ck"
      }
    },
    {
      "cell_type": "markdown",
      "source": [
        "Whether the dataset is balanced across years\n",
        "\n",
        "If there are any missing periods or incomplete years\n",
        "\n",
        "Ensures fair model training (equal representation)"
      ],
      "metadata": {
        "id": "ZYdMsrqVp1ck"
      }
    },
    {
      "cell_type": "markdown",
      "source": [
        "##### 3. Will the gained insights help creating a positive business impact?\n",
        "Are there any insights that lead to negative growth? Justify with specific reason."
      ],
      "metadata": {
        "id": "PVzmfK_Ep1ck"
      }
    },
    {
      "cell_type": "markdown",
      "source": [
        "If some years have very few data points, they may introduce bias or noise into the model. This is crucial when evaluating year-over-year performance or making historical comparisons."
      ],
      "metadata": {
        "id": "druuKYZpp1ck"
      }
    },
    {
      "cell_type": "markdown",
      "source": [
        "#### Chart - 12"
      ],
      "metadata": {
        "id": "n3dbpmDWp1ck"
      }
    },
    {
      "cell_type": "code",
      "source": [
        "import seaborn as sns\n",
        "import matplotlib.pyplot as plt\n",
        "\n",
        "plt.figure(figsize=(8, 6))\n",
        "sns.scatterplot(x='low', y='high', data=df, color='teal')\n",
        "plt.title(\"13. High vs Low Prices\")\n",
        "plt.xlabel(\"Low Price\")\n",
        "plt.ylabel(\"High Price\")\n",
        "plt.tight_layout()\n",
        "plt.show()\n"
      ],
      "metadata": {
        "id": "bwevp1tKp1ck"
      },
      "execution_count": null,
      "outputs": []
    },
    {
      "cell_type": "markdown",
      "source": [
        "##### 1. Why did you pick the specific chart?"
      ],
      "metadata": {
        "id": "ylSl6qgtp1ck"
      }
    },
    {
      "cell_type": "markdown",
      "source": [
        "A scatter plot is ideal for visualizing the price spread within a day — how far the stock moves between its lowest and highest value."
      ],
      "metadata": {
        "id": "m2xqNkiQp1ck"
      }
    },
    {
      "cell_type": "markdown",
      "source": [
        "##### 2. What is/are the insight(s) found from the chart?"
      ],
      "metadata": {
        "id": "ZWILFDl5p1ck"
      }
    },
    {
      "cell_type": "markdown",
      "source": [
        "Whether there's a linear relationship between low and high prices\n",
        "\n",
        "The consistency of daily price ranges\n",
        "\n",
        "Detects outliers or erratic behavior"
      ],
      "metadata": {
        "id": "x-lUsV2mp1ck"
      }
    },
    {
      "cell_type": "markdown",
      "source": [
        "##### 3. Will the gained insights help creating a positive business impact?\n",
        "Are there any insights that lead to negative growth? Justify with specific reason."
      ],
      "metadata": {
        "id": "M7G43BXep1ck"
      }
    },
    {
      "cell_type": "markdown",
      "source": [
        "Tight clustering suggests predictable daily movements, which helps day traders and institutions plan entry/exit points. Large deviations may indicate breakout patterns or news-driven volatility, which can guide short-term trading strategies."
      ],
      "metadata": {
        "id": "5wwDJXsLp1cl"
      }
    },
    {
      "cell_type": "markdown",
      "source": [
        "#### Chart - 13"
      ],
      "metadata": {
        "id": "Ag9LCva-p1cl"
      }
    },
    {
      "cell_type": "code",
      "source": [
        "!pip install plotly --quiet\n",
        "\n",
        "import plotly.graph_objects as go\n",
        "\n",
        "# Sort values and prepare candlestick chart\n",
        "df_sorted = df.sort_values('date')\n",
        "\n",
        "fig = go.Figure(data=[go.Candlestick(\n",
        "                x=df_sorted['date'],\n",
        "                open=df_sorted['open'],\n",
        "                high=df_sorted['high'],\n",
        "                low=df_sorted['low'],\n",
        "                close=df_sorted['close'],\n",
        "                increasing_line_color='green', decreasing_line_color='red')])\n",
        "\n",
        "fig.update_layout(\n",
        "    title='14. Candlestick Chart: Open-High-Low-Close Over Time',\n",
        "    xaxis_title='Date',\n",
        "    yaxis_title='Price',\n",
        "    xaxis_rangeslider_visible=False,\n",
        "    template=\"plotly_white\"\n",
        ")\n",
        "\n",
        "fig.show()\n"
      ],
      "metadata": {
        "id": "EUfxeq9-p1cl"
      },
      "execution_count": null,
      "outputs": []
    },
    {
      "cell_type": "markdown",
      "source": [
        "##### 1. Why did you pick the specific chart?"
      ],
      "metadata": {
        "id": "E6MkPsBcp1cl"
      }
    },
    {
      "cell_type": "markdown",
      "source": [
        "A candlestick chart is the most powerful way to visualize OHLC data in one chart — showing both the price range and price direction over time."
      ],
      "metadata": {
        "id": "V22bRsFWp1cl"
      }
    },
    {
      "cell_type": "markdown",
      "source": [
        "##### 2. What is/are the insight(s) found from the chart?"
      ],
      "metadata": {
        "id": "2cELzS2fp1cl"
      }
    },
    {
      "cell_type": "markdown",
      "source": [
        "Whether a price went up or down during the month\n",
        "\n",
        "The volatility of each period (long vs short candles)\n",
        "\n",
        "Support/resistance levels and trading patterns"
      ],
      "metadata": {
        "id": "ozQPc2_Ip1cl"
      }
    },
    {
      "cell_type": "markdown",
      "source": [
        "##### 3. Will the gained insights help creating a positive business impact?\n",
        "Are there any insights that lead to negative growth? Justify with specific reason."
      ],
      "metadata": {
        "id": "3MPXvC8up1cl"
      }
    },
    {
      "cell_type": "markdown",
      "source": [
        "This chart is invaluable for technical analysts and traders. It helps in spotting trading signals, understanding market sentiment, and planning entry/exit strategies based on candlestick patterns."
      ],
      "metadata": {
        "id": "GL8l1tdLp1cl"
      }
    },
    {
      "cell_type": "markdown",
      "source": [
        "#### Chart - 14 - Correlation Heatmap"
      ],
      "metadata": {
        "id": "NC_X3p0fY2L0"
      }
    },
    {
      "cell_type": "code",
      "source": [
        "# Correlation heatmap between numerical features\n",
        "import seaborn as sns\n",
        "import matplotlib.pyplot as plt\n",
        "\n",
        "plt.figure(figsize=(8, 6))\n",
        "sns.heatmap(df[['open', 'high', 'low', 'close']].corr(), annot=True, cmap='coolwarm', linewidths=0.5)\n",
        "plt.title(\"2. Correlation Between Features\")\n",
        "plt.tight_layout()\n",
        "plt.show()\n"
      ],
      "metadata": {
        "id": "xyC9zolEZNRQ"
      },
      "execution_count": null,
      "outputs": []
    },
    {
      "cell_type": "markdown",
      "source": [
        "##### 1. Why did you pick the specific chart?"
      ],
      "metadata": {
        "id": "UV0SzAkaZNRQ"
      }
    },
    {
      "cell_type": "markdown",
      "source": [
        "A heatmap is the most intuitive way to understand the correlation (linear relationship) between numeric variables in your dataset."
      ],
      "metadata": {
        "id": "DVPuT8LYZNRQ"
      }
    },
    {
      "cell_type": "markdown",
      "source": [
        "##### 2. What is/are the insight(s) found from the chart?"
      ],
      "metadata": {
        "id": "YPEH6qLeZNRQ"
      }
    },
    {
      "cell_type": "markdown",
      "source": [
        "This helps in selecting the most relevant features for prediction. For example, if high and close are highly correlated, it suggests that intraday peaks are strong indicators of end-of-day value, which traders can use to predict outcomes earlier."
      ],
      "metadata": {
        "id": "bfSqtnDqZNRR"
      }
    },
    {
      "cell_type": "markdown",
      "source": [
        "#### Chart - 15 - Pair Plot"
      ],
      "metadata": {
        "id": "q29F0dvdveiT"
      }
    },
    {
      "cell_type": "code",
      "source": [
        "import seaborn as sns\n",
        "import matplotlib.pyplot as plt\n",
        "\n",
        "# Pairplot of key numeric columns\n",
        "sns.pairplot(df[['open', 'high', 'low', 'close']], diag_kind='kde', corner=True)\n",
        "plt.suptitle(\"15. Pair Plot of Price Features\", y=1.02)\n",
        "plt.tight_layout()\n",
        "plt.show()\n"
      ],
      "metadata": {
        "id": "o58-TEIhveiU"
      },
      "execution_count": null,
      "outputs": []
    },
    {
      "cell_type": "markdown",
      "source": [
        "##### 1. Why did you pick the specific chart?"
      ],
      "metadata": {
        "id": "EXh0U9oCveiU"
      }
    },
    {
      "cell_type": "markdown",
      "source": [
        "A pair plot lets you explore the relationship between each pair of features, both with scatter plots and with distribution curves on the diagonal."
      ],
      "metadata": {
        "id": "eMmPjTByveiU"
      }
    },
    {
      "cell_type": "markdown",
      "source": [
        "##### 2. What is/are the insight(s) found from the chart?"
      ],
      "metadata": {
        "id": "22aHeOlLveiV"
      }
    },
    {
      "cell_type": "markdown",
      "source": [
        "Correlation, trends, and patterns between variables\n",
        "\n",
        "If the relationships are linear or non-linear\n",
        "\n",
        "Detects outliers or clustering across multiple feature pairs"
      ],
      "metadata": {
        "id": "uPQ8RGwHveiV"
      }
    },
    {
      "cell_type": "markdown",
      "source": [
        "## ***5. Hypothesis Testing***"
      ],
      "metadata": {
        "id": "g-ATYxFrGrvw"
      }
    },
    {
      "cell_type": "markdown",
      "source": [
        "### Based on your chart experiments, define three hypothetical statements from the dataset. In the next three questions, perform hypothesis testing to obtain final conclusion about the statements through your code and statistical testing."
      ],
      "metadata": {
        "id": "Yfr_Vlr8HBkt"
      }
    },
    {
      "cell_type": "markdown",
      "source": [
        "Answer Here."
      ],
      "metadata": {
        "id": "-7MS06SUHkB-"
      }
    },
    {
      "cell_type": "markdown",
      "source": [
        "###The average closing price in the year with the most data (e.g., 2018) is significantly higher than that in the year 2020."
      ],
      "metadata": {
        "id": "8yEUt7NnHlrM"
      }
    },
    {
      "cell_type": "markdown",
      "source": [
        "#### 1. State Your research hypothesis as a null hypothesis and alternate hypothesis."
      ],
      "metadata": {
        "id": "tEA2Xm5dHt1r"
      }
    },
    {
      "cell_type": "markdown",
      "source": [
        "There is no significant difference in the average closing prices between 2018 and 2020.\n",
        "Mathematically:\n",
        "\n",
        "  H₀: μ₁ = μ₂\n",
        "\n",
        "The average closing price in 2018 is significantly higher than in 2020.\n",
        "Mathematically:\n",
        "\n",
        "  H₁: μ₁ > μ₂"
      ],
      "metadata": {
        "id": "HI9ZP0laH0D-"
      }
    },
    {
      "cell_type": "markdown",
      "source": [
        "#### 2. Perform an appropriate statistical test."
      ],
      "metadata": {
        "id": "I79__PHVH19G"
      }
    },
    {
      "cell_type": "code",
      "source": [
        "from scipy.stats import ttest_ind\n",
        "\n",
        "# Filter data for 2018 and 2020\n",
        "close_2018 = df[df['year'] == 2018]['close']\n",
        "close_2020 = df[df['year'] == 2020]['close']\n",
        "\n",
        "# Perform two-sample independent t-test\n",
        "t_stat, p_val = ttest_ind(close_2018, close_2020, equal_var=False)\n",
        "\n",
        "# One-tailed test (checking if 2018 > 2020)\n",
        "p_val_one_tailed = p_val / 2\n",
        "\n",
        "print(\"T-statistic:\", t_stat)\n",
        "print(\"One-tailed p-value (2018 > 2020):\", p_val_one_tailed)\n",
        "\n",
        "# Interpretation at alpha = 0.05\n",
        "if p_val_one_tailed < 0.05 and t_stat > 0:\n",
        "    print(\" Reject Null Hypothesis: 2018 closing prices are significantly higher than 2020.\")\n",
        "else:\n",
        "    print(\" Fail to Reject Null Hypothesis: No significant evidence that 2018 > 2020.\")\n"
      ],
      "metadata": {
        "id": "oZrfquKtyian"
      },
      "execution_count": null,
      "outputs": []
    },
    {
      "cell_type": "markdown",
      "source": [
        "##### Which statistical test have you done to obtain P-Value?"
      ],
      "metadata": {
        "id": "Ou-I18pAyIpj"
      }
    },
    {
      "cell_type": "markdown",
      "source": [
        "To obtain the p-value, we performed the Independent Two-Sample t-test (also known as the Student’s t-test) using the ttest_ind() function from the scipy.stats module.\n",
        "\n",
        "This test gives us:\n",
        "\n",
        "A t-statistic (to measure the difference between group means relative to the variation),\n",
        "\n",
        "And a p-value (to evaluate the probability of observing such a difference if the null hypothesis were true)."
      ],
      "metadata": {
        "id": "s2U0kk00ygSB"
      }
    },
    {
      "cell_type": "markdown",
      "source": [
        "##### Why did you choose the specific statistical test?"
      ],
      "metadata": {
        "id": "fF3858GYyt-u"
      }
    },
    {
      "cell_type": "markdown",
      "source": [
        "Because we are:\n",
        "\n",
        "Comparing the means of two independent groups (closing prices from 2018 vs 2020),\n",
        "\n",
        "Assuming that the samples are normally distributed (reasonable for large datasets),\n",
        "\n",
        "And not assuming equal variances (equal_var=False used for Welch’s t-test variant)."
      ],
      "metadata": {
        "id": "HO4K0gP5y3B4"
      }
    },
    {
      "cell_type": "markdown",
      "source": [
        "### There is a significant correlation between opening and closing prices."
      ],
      "metadata": {
        "id": "4_0_7-oCpUZd"
      }
    },
    {
      "cell_type": "markdown",
      "source": [
        "#### 1. State Your research hypothesis as a null hypothesis and alternate hypothesis."
      ],
      "metadata": {
        "id": "hwyV_J3ipUZe"
      }
    },
    {
      "cell_type": "markdown",
      "source": [
        "There is no significant correlation between the opening and closing prices.\n",
        "Mathematically:\n",
        "\n",
        "  H₀: ρ = 0\n",
        "\n",
        "There is a significant correlation between the opening and closing prices.\n",
        "Mathematically:\n",
        "\n",
        "  H₁: ρ ≠ 0"
      ],
      "metadata": {
        "id": "FnpLGJ-4pUZe"
      }
    },
    {
      "cell_type": "markdown",
      "source": [
        "#### 2. Perform an appropriate statistical test."
      ],
      "metadata": {
        "id": "3yB-zSqbpUZe"
      }
    },
    {
      "cell_type": "code",
      "source": [
        "from scipy.stats import pearsonr\n",
        "\n",
        "# Extract open and close prices\n",
        "open_prices = df['open']\n",
        "close_prices = df['close']\n",
        "\n",
        "# Perform Pearson correlation test\n",
        "corr_coef, p_value = pearsonr(open_prices, close_prices)\n",
        "\n",
        "print(\"Pearson Correlation Coefficient (ρ):\", corr_coef)\n",
        "print(\"P-value:\", p_value)\n",
        "\n",
        "# Interpretation at alpha = 0.05\n",
        "if p_value < 0.05:\n",
        "    print(\" Reject Null Hypothesis: Significant correlation exists between open and close prices.\")\n",
        "else:\n",
        "    print(\" Fail to Reject Null Hypothesis: No significant correlation found.\")\n"
      ],
      "metadata": {
        "id": "sWxdNTXNpUZe"
      },
      "execution_count": null,
      "outputs": []
    },
    {
      "cell_type": "markdown",
      "source": [
        "##### Which statistical test have you done to obtain P-Value?"
      ],
      "metadata": {
        "id": "dEUvejAfpUZe"
      }
    },
    {
      "cell_type": "markdown",
      "source": [
        "To obtain the p-value for Hypothesis 2, we used the Pearson Correlation Test, implemented via pearsonr() from the scipy.stats module."
      ],
      "metadata": {
        "id": "oLDrPz7HpUZf"
      }
    },
    {
      "cell_type": "markdown",
      "source": [
        "##### Why did you choose the specific statistical test?"
      ],
      "metadata": {
        "id": "Fd15vwWVpUZf"
      }
    },
    {
      "cell_type": "markdown",
      "source": [
        "We are examining the linear relationship between two continuous numerical variables — open and close prices.\n",
        "\n",
        "The test evaluates how strongly these two variables are correlated, and whether that observed correlation is statistically significant."
      ],
      "metadata": {
        "id": "4xOGYyiBpUZf"
      }
    },
    {
      "cell_type": "markdown",
      "source": [
        "### The volatility (price range = high - low) in the month of March is significantly higher than the average volatility across all other months."
      ],
      "metadata": {
        "id": "bn_IUdTipZyH"
      }
    },
    {
      "cell_type": "markdown",
      "source": [
        "#### 1. State Your research hypothesis as a null hypothesis and alternate hypothesis."
      ],
      "metadata": {
        "id": "49K5P_iCpZyH"
      }
    },
    {
      "cell_type": "markdown",
      "source": [
        "The average volatility in March is not significantly higher than in other months.\n",
        "Mathematically:\n",
        "\n",
        "  H₀: μ₁ ≤ μ₂\n",
        "\n",
        "The average volatility in March is significantly higher than in other months.\n",
        "Mathematically:\n",
        "\n",
        "  H₁: μ₁ > μ₂"
      ],
      "metadata": {
        "id": "7gWI5rT9pZyH"
      }
    },
    {
      "cell_type": "markdown",
      "source": [
        "#### 2. Perform an appropriate statistical test."
      ],
      "metadata": {
        "id": "Nff-vKELpZyI"
      }
    },
    {
      "cell_type": "code",
      "source": [
        "from scipy.stats import ttest_ind\n",
        "\n",
        "# Calculate volatility = high - low\n",
        "df['volatility'] = df['high'] - df['low']\n",
        "\n",
        "# Separate March and non-March volatility\n",
        "march_volatility = df[df['month'] == 3]['volatility']\n",
        "non_march_volatility = df[df['month'] != 3]['volatility']\n",
        "\n",
        "# Perform independent t-test (Welch's t-test, unequal variance)\n",
        "t_stat, p_val = ttest_ind(march_volatility, non_march_volatility, equal_var=False)\n",
        "\n",
        "# One-tailed test: Is March volatility > others?\n",
        "p_val_one_tailed = p_val / 2\n",
        "\n",
        "print(\"T-statistic:\", t_stat)\n",
        "print(\"One-tailed p-value (March > others):\", p_val_one_tailed)\n",
        "\n",
        "# Interpretation at alpha = 0.05\n",
        "if p_val_one_tailed < 0.05 and t_stat > 0:\n",
        "    print(\"Reject Null Hypothesis: March volatility is significantly higher than other months.\")\n",
        "else:\n",
        "    print(\"Fail to Reject Null Hypothesis: No significant evidence that March has higher volatility.\")\n"
      ],
      "metadata": {
        "id": "s6AnJQjtpZyI"
      },
      "execution_count": null,
      "outputs": []
    },
    {
      "cell_type": "markdown",
      "source": [
        "##### Which statistical test have you done to obtain P-Value?"
      ],
      "metadata": {
        "id": "kLW572S8pZyI"
      }
    },
    {
      "cell_type": "markdown",
      "source": [
        "To obtain the p-value for Hypothesis 3, we used the Independent Two-Sample t-test (Welch’s t-test), via the ttest_ind() function from the scipy.stats module."
      ],
      "metadata": {
        "id": "ytWJ8v15pZyI"
      }
    },
    {
      "cell_type": "markdown",
      "source": [
        "##### Why did you choose the specific statistical test?"
      ],
      "metadata": {
        "id": "dWbDXHzopZyI"
      }
    },
    {
      "cell_type": "markdown",
      "source": [
        "We're comparing the means of two independent groups:\n",
        "\n",
        "Daily volatility in March\n",
        "\n",
        "Daily volatility in all other months\n",
        "\n",
        "The samples may have unequal sizes and different variances, so we use Welch’s t-test, which doesn’t assume equal variance (equal_var=False).\n",
        "\n",
        "We're specifically testing whether March has greater volatility → this makes it a one-tailed test."
      ],
      "metadata": {
        "id": "M99G98V6pZyI"
      }
    },
    {
      "cell_type": "markdown",
      "source": [
        "## ***6. Feature Engineering & Data Pre-processing***"
      ],
      "metadata": {
        "id": "yLjJCtPM0KBk"
      }
    },
    {
      "cell_type": "markdown",
      "source": [
        "### 1. Handling Missing Values"
      ],
      "metadata": {
        "id": "xiyOF9F70UgQ"
      }
    },
    {
      "cell_type": "code",
      "source": [
        "import pandas as pd\n",
        "\n",
        "# Show total missing values per column before imputation\n",
        "print(\"Missing values before imputation:\")\n",
        "print(df.isnull().sum())\n",
        "\n",
        "# 🔧 Option 1: Drop rows with any missing values (if dataset is large enough)\n",
        "# df.dropna(inplace=True)\n",
        "\n",
        "# 🔧 Option 2: Impute missing numerical values with column mean\n",
        "df['open'].fillna(df['open'].mean(), inplace=True)\n",
        "df['high'].fillna(df['high'].mean(), inplace=True)\n",
        "df['low'].fillna(df['low'].mean(), inplace=True)\n",
        "df['close'].fillna(df['close'].mean(), inplace=True)\n",
        "\n",
        "# 🔧 Option 3 (if applicable): Fill forward for time series continuity\n",
        "# df.fillna(method='ffill', inplace=True)\n",
        "\n",
        "# Check after imputation\n",
        "print(\"\\nMissing values after imputation:\")\n",
        "print(df.isnull().sum())\n"
      ],
      "metadata": {
        "id": "iRsAHk1K0fpS"
      },
      "execution_count": null,
      "outputs": []
    },
    {
      "cell_type": "markdown",
      "source": [
        "#### What all missing value imputation techniques have you used and why did you use those techniques?"
      ],
      "metadata": {
        "id": "7wuGOrhz0itI"
      }
    },
    {
      "cell_type": "markdown",
      "source": [
        "We used mean imputation as the primary method because it maintains the dataset's shape, is computationally simple, and works well when missing values are randomly distributed. We also included forward fill as an alternative for time-sensitive analyses."
      ],
      "metadata": {
        "id": "1ixusLtI0pqI"
      }
    },
    {
      "cell_type": "markdown",
      "source": [
        "### 2. Handling Outliers"
      ],
      "metadata": {
        "id": "id1riN9m0vUs"
      }
    },
    {
      "cell_type": "code",
      "source": [
        "import numpy as np\n",
        "\n",
        "# Function to detect and cap outliers using IQR method\n",
        "def cap_outliers(col):\n",
        "    Q1 = df[col].quantile(0.25)\n",
        "    Q3 = df[col].quantile(0.75)\n",
        "    IQR = Q3 - Q1\n",
        "    lower_bound = Q1 - 1.5 * IQR\n",
        "    upper_bound = Q3 + 1.5 * IQR\n",
        "\n",
        "    # Print how many outliers are being handled\n",
        "    outliers = ((df[col] < lower_bound) | (df[col] > upper_bound)).sum()\n",
        "    print(f\"{col}: {outliers} outliers capped.\")\n",
        "\n",
        "    # Cap outliers\n",
        "    df[col] = np.where(df[col] < lower_bound, lower_bound,\n",
        "                np.where(df[col] > upper_bound, upper_bound, df[col]))\n",
        "\n",
        "# Apply to numeric columns\n",
        "numeric_cols = ['open', 'high', 'low', 'close']\n",
        "\n",
        "for col in numeric_cols:\n",
        "    cap_outliers(col)\n"
      ],
      "metadata": {
        "id": "M6w2CzZf04JK"
      },
      "execution_count": null,
      "outputs": []
    },
    {
      "cell_type": "markdown",
      "source": [
        "##### What all outlier treatment techniques have you used and why did you use those techniques?"
      ],
      "metadata": {
        "id": "578E2V7j08f6"
      }
    },
    {
      "cell_type": "markdown",
      "source": [
        "Interquartile Range (IQR) Method – for Outlier Detection\n",
        "\n",
        "Used For: Numeric columns like open, high, low, and close.\n",
        "\n",
        "Why: IQR-based filtering is one of the most robust statistical methods for identifying outliers in continuous, non-normally distributed data.\n",
        "\n",
        "How: Data points below Q1 − 1.5 × IQR or above Q3 + 1.5 × IQR are flagged as outliers.\n",
        "\n",
        "Winsorization (Capping Outliers)\n",
        "\n",
        "Used For: Replacing extreme values with the nearest acceptable threshold (Q1 − 1.5×IQR or Q3 + 1.5×IQR).\n",
        "\n",
        "Why:\n",
        "\n",
        "Keeps the overall dataset size unchanged, which is crucial for training ML models.\n",
        "\n",
        "Prevents model distortion due to extreme values.\n",
        "\n",
        "Retains useful patterns that might still lie near the boundaries.\n",
        "\n",
        "Business Justification: In stock price data, extreme highs/lows may be due to temporary anomalies (e.g., news spikes), and capping avoids discarding them entirely."
      ],
      "metadata": {
        "id": "uGZz5OrT1HH-"
      }
    },
    {
      "cell_type": "markdown",
      "source": [
        "### 3. Categorical Encoding"
      ],
      "metadata": {
        "id": "89xtkJwZ18nB"
      }
    },
    {
      "cell_type": "code",
      "source": [
        "# Create a new categorical column from date (optional if not already present)\n",
        "df['month_name'] = df['date'].dt.strftime('%b')  # Jan, Feb, etc.\n",
        "\n",
        "# One-hot encode month_name\n",
        "df_encoded = pd.get_dummies(df, columns=['month_name'], drop_first=True)\n",
        "\n",
        "# View the updated dataframe\n",
        "print(df_encoded.head())\n"
      ],
      "metadata": {
        "id": "21JmIYMG2hEo"
      },
      "execution_count": null,
      "outputs": []
    },
    {
      "cell_type": "markdown",
      "source": [
        "#### What all categorical encoding techniques have you used & why did you use those techniques?"
      ],
      "metadata": {
        "id": "67NQN5KX2AMe"
      }
    },
    {
      "cell_type": "markdown",
      "source": [
        " Categorical Encoding Techniques Used & Justification\n",
        "One-Hot Encoding (pd.get_dummies())\n",
        "\n",
        "Used For: The derived column month_name (e.g., Jan, Feb, Mar…).\n",
        "\n",
        "Why:\n",
        "\n",
        "The month_name column is a nominal categorical variable (no natural order between months).\n",
        "\n",
        "One-hot encoding converts each category into a binary feature (0 or 1), ensuring the model doesn’t infer a false numerical relationship between months.\n",
        "\n",
        "Advantage: Prevents introducing ordinal bias, works well with most machine learning models, and avoids multicollinearity by using drop_first=True.\n",
        "\n",
        " Why Not Label Encoding?\n",
        "Not used because our categorical variable (month_name) is not ordinal.\n",
        "\n",
        "Label encoding assigns numeric values (e.g., Jan = 0, Feb = 1...), which can mislead models into assuming an ordered relationship, which doesn’t exist in this context."
      ],
      "metadata": {
        "id": "UDaue5h32n_G"
      }
    },
    {
      "cell_type": "markdown",
      "source": [
        "### 4. Data Transformation"
      ],
      "metadata": {
        "id": "TNVZ9zx19K6k"
      }
    },
    {
      "cell_type": "markdown",
      "source": [
        "#### Do you think that your data needs to be transformed? If yes, which transformation have you used. Explain Why?"
      ],
      "metadata": {
        "id": "nqoHp30x9hH9"
      }
    },
    {
      "cell_type": "markdown",
      "source": [
        "For data transformation, including:\n",
        "\n",
        "Log Transformation (to reduce skewness)\n",
        "\n",
        "Standardization (for model scaling)"
      ],
      "metadata": {
        "id": "FebHSRzF1ai3"
      }
    },
    {
      "cell_type": "code",
      "source": [
        "import numpy as np\n",
        "from sklearn.preprocessing import StandardScaler\n",
        "import pandas as pd\n",
        "\n",
        "# Optional: Log Transformation to reduce right skewness\n",
        "df['open_log'] = np.log1p(df['open'])\n",
        "df['high_log'] = np.log1p(df['high'])\n",
        "df['low_log'] = np.log1p(df['low'])\n",
        "df['close_log'] = np.log1p(df['close'])\n",
        "\n",
        "# Standardization: Z-score normalization\n",
        "scaler = StandardScaler()\n",
        "scaled_features = scaler.fit_transform(df[['open_log', 'high_log', 'low_log', 'close_log']])\n",
        "\n",
        "# Convert back to DataFrame for easier use\n",
        "scaled_df = pd.DataFrame(scaled_features, columns=['open_scaled', 'high_scaled', 'low_scaled', 'close_scaled'])\n",
        "\n",
        "# Concatenate with original dataframe (optional)\n",
        "df = pd.concat([df, scaled_df], axis=1)\n",
        "\n",
        "# Preview final transformed DataFrame\n",
        "print(df[['open', 'open_log', 'open_scaled']].head())\n"
      ],
      "metadata": {
        "id": "I6quWQ1T9rtH"
      },
      "execution_count": null,
      "outputs": []
    },
    {
      "cell_type": "markdown",
      "source": [
        "### 5. Data Scaling"
      ],
      "metadata": {
        "id": "rMDnDkt2B6du"
      }
    },
    {
      "cell_type": "code",
      "source": [
        "from sklearn.preprocessing import StandardScaler\n",
        "import pandas as pd\n",
        "\n",
        "# Select numeric features to scale\n",
        "features_to_scale = ['open', 'high', 'low', 'close']\n",
        "\n",
        "# Initialize the scaler\n",
        "scaler = StandardScaler()\n",
        "\n",
        "# Fit and transform the features\n",
        "df_scaled = scaler.fit_transform(df[features_to_scale])\n",
        "\n",
        "# Create a new DataFrame for scaled features\n",
        "df_scaled = pd.DataFrame(df_scaled, columns=[f'{col}_scaled' for col in features_to_scale])\n",
        "\n",
        "# Concatenate scaled features with original dataframe\n",
        "df = pd.concat([df, df_scaled], axis=1)\n",
        "\n",
        "# Show a preview of scaled values\n",
        "print(df[[f'{col}_scaled' for col in features_to_scale]].head())\n"
      ],
      "metadata": {
        "id": "dL9LWpySC6x_"
      },
      "execution_count": null,
      "outputs": []
    },
    {
      "cell_type": "markdown",
      "source": [
        "##### Which method have you used to scale you data and why?\n",
        "We used Standardization via the StandardScaler from sklearn.preprocessing.\n",
        "\n",
        "Why StandardScaler?\n",
        "\n",
        "Transforms data to mean = 0 and standard deviation = 1\n",
        "\n",
        "Works well for distance-based algorithms and linear models\n",
        "\n",
        "Makes features comparable and ensures faster model convergence"
      ],
      "metadata": {
        "id": "yiiVWRdJDDil"
      }
    },
    {
      "cell_type": "markdown",
      "source": [
        "### 7. Dimesionality Reduction"
      ],
      "metadata": {
        "id": "1UUpS68QDMuG"
      }
    },
    {
      "cell_type": "markdown",
      "source": [
        "##### Do you think that dimensionality reduction is needed? Explain Why?"
      ],
      "metadata": {
        "id": "kexQrXU-DjzY"
      }
    },
    {
      "cell_type": "markdown",
      "source": [
        "The dataset has very few features (open, high, low, close, date-based columns), so:\n",
        "\n",
        "There is no curse of dimensionality (i.e., models won't suffer from high-dimensional sparsity).\n",
        "\n",
        "Most models will perform efficiently without reducing features.\n",
        "\n",
        "All features are interpretable and carry strong business meaning in stock price prediction."
      ],
      "metadata": {
        "id": "GGRlBsSGDtTQ"
      }
    },
    {
      "cell_type": "code",
      "source": [
        "# DImensionality Reduction (If needed)"
      ],
      "metadata": {
        "id": "kQfvxBBHDvCa"
      },
      "execution_count": null,
      "outputs": []
    },
    {
      "cell_type": "markdown",
      "source": [
        "##### Which dimensionality reduction technique have you used and why? (If dimensionality reduction done on dataset.)"
      ],
      "metadata": {
        "id": "T5CmagL3EC8N"
      }
    },
    {
      "cell_type": "markdown",
      "source": [
        "Answer Here."
      ],
      "metadata": {
        "id": "ZKr75IDuEM7t"
      }
    },
    {
      "cell_type": "markdown",
      "source": [
        "### 8. Data Splitting"
      ],
      "metadata": {
        "id": "BhH2vgX9EjGr"
      }
    },
    {
      "cell_type": "code",
      "source": [
        "from sklearn.model_selection import train_test_split\n",
        "\n",
        "# Define features and target\n",
        "X = df[['open_scaled', 'high_scaled', 'low_scaled']]  # Scaled features\n",
        "y = df['close_scaled']  # Scaled target\n",
        "\n",
        "# Perform train-test split (80% train, 20% test — ideal for small/medium datasets)\n",
        "X_train, X_test, y_train, y_test = train_test_split(\n",
        "    X, y, test_size=0.2, random_state=42)\n",
        "\n",
        "# Show the shapes of resulting sets\n",
        "print(\"Training set size:\", X_train.shape)\n",
        "print(\"Test set size:\", X_test.shape)\n"
      ],
      "metadata": {
        "id": "0CTyd2UwEyNM"
      },
      "execution_count": null,
      "outputs": []
    },
    {
      "cell_type": "markdown",
      "source": [
        "##### What data splitting ratio have you used and why?"
      ],
      "metadata": {
        "id": "qjKvONjwE8ra"
      }
    },
    {
      "cell_type": "markdown",
      "source": [
        "80% training / 20% testing is a balanced choice:\n",
        "\n",
        "Enough data to train the model with good generalization.\n",
        "\n",
        "Sufficient unseen data to evaluate the model fairly.\n",
        "\n",
        "A fixed random_state ensures reproducibility.\n",
        "\n",
        "Works well when dataset size is moderate (e.g., a few hundred to few thousand records)."
      ],
      "metadata": {
        "id": "Y2lJ8cobFDb_"
      }
    },
    {
      "cell_type": "markdown",
      "source": [
        "### 9. Handling Imbalanced Dataset"
      ],
      "metadata": {
        "id": "P1XJ9OREExlT"
      }
    },
    {
      "cell_type": "markdown",
      "source": [
        "##### Do you think the dataset is imbalanced? Explain Why."
      ],
      "metadata": {
        "id": "VFOzZv6IFROw"
      }
    },
    {
      "cell_type": "markdown",
      "source": [
        "No, the dataset is not imbalanced — because the target variable close (stock closing price) is continuous and regression-based, not categorical or binary"
      ],
      "metadata": {
        "id": "A27Gl7kg31hH"
      }
    },
    {
      "cell_type": "code",
      "source": [
        "# Handling Imbalanced Dataset (If needed)"
      ],
      "metadata": {
        "id": "nQsRhhZLFiDs"
      },
      "execution_count": null,
      "outputs": []
    },
    {
      "cell_type": "markdown",
      "source": [
        "##### What technique did you use to handle the imbalance dataset and why? (If needed to be balanced)"
      ],
      "metadata": {
        "id": "TIqpNgepFxVj"
      }
    },
    {
      "cell_type": "markdown",
      "source": [
        "Answer Here."
      ],
      "metadata": {
        "id": "qbet1HwdGDTz"
      }
    },
    {
      "cell_type": "markdown",
      "source": [
        "## ***7. ML Model Implementation***"
      ],
      "metadata": {
        "id": "VfCC591jGiD4"
      }
    },
    {
      "cell_type": "markdown",
      "source": [
        "### ML Model - 1"
      ],
      "metadata": {
        "id": "OB4l2ZhMeS1U"
      }
    },
    {
      "cell_type": "code",
      "source": [
        "from sklearn.metrics import mean_squared_error, r2_score\n",
        "import numpy as np\n",
        "\n",
        "# Evaluate the model\n",
        "r2 = r2_score(y_test, lr_predictions)\n",
        "rmse = np.sqrt(mean_squared_error(y_test, lr_predictions))  # manually compute RMSE\n",
        "\n",
        "# Output results\n",
        "print(\"🔹 Linear Regression Results:\")\n",
        "print(\"R² Score:\", round(r2, 4))\n",
        "print(\"RMSE:\", round(rmse, 4))\n"
      ],
      "metadata": {
        "id": "7ebyywQieS1U"
      },
      "execution_count": null,
      "outputs": []
    },
    {
      "cell_type": "markdown",
      "source": [
        "#### 1. Explain the ML Model used and it's performance using Evaluation metric Score Chart."
      ],
      "metadata": {
        "id": "ArJBuiUVfxKd"
      }
    },
    {
      "cell_type": "code",
      "source": [
        "import matplotlib.pyplot as plt\n",
        "import seaborn as sns\n",
        "\n",
        "# Define metric names and their corresponding values\n",
        "metrics = {\n",
        "    'R² Score': r2,\n",
        "    'RMSE': rmse\n",
        "}\n",
        "\n",
        "# Convert to DataFrame for seaborn plotting\n",
        "metrics_df = pd.DataFrame(list(metrics.items()), columns=['Metric', 'Value'])\n",
        "\n",
        "# Plot\n",
        "plt.figure(figsize=(8, 5))\n",
        "sns.barplot(data=metrics_df, x='Metric', y='Value', palette='Set2')\n",
        "plt.title(\"📊 Evaluation Metrics for Linear Regression Model\", fontsize=14)\n",
        "plt.ylabel(\"Score\")\n",
        "plt.ylim(0, max(metrics.values()) + 0.1)\n",
        "for index, row in metrics_df.iterrows():\n",
        "    plt.text(index, row.Value + 0.01, round(row.Value, 3), ha='center', fontsize=12)\n",
        "\n",
        "plt.tight_layout()\n",
        "plt.show()\n"
      ],
      "metadata": {
        "id": "rqD5ZohzfxKe"
      },
      "execution_count": null,
      "outputs": []
    },
    {
      "cell_type": "markdown",
      "source": [
        "#### 2. Cross- Validation & Hyperparameter Tuning"
      ],
      "metadata": {
        "id": "4qY1EAkEfxKe"
      }
    },
    {
      "cell_type": "code",
      "source": [
        "import matplotlib.pyplot as plt\n",
        "import seaborn as sns\n",
        "import pandas as pd\n",
        "\n",
        "# Replace with actual scores\n",
        "metrics_data = {\n",
        "    'Model': ['Linear Regression', 'Ridge (GridSearchCV)'],\n",
        "    'R² Score': [0.988, 0.990],\n",
        "    'RMSE': [0.103, 0.096]\n",
        "}\n",
        "\n",
        "# Create DataFrame\n",
        "metrics_df = pd.DataFrame(metrics_data)\n",
        "\n",
        "# Plot R² Score\n",
        "plt.figure(figsize=(10,4))\n",
        "plt.subplot(1, 2, 1)\n",
        "sns.barplot(x='Model', y='R² Score', data=metrics_df, palette='viridis')\n",
        "plt.title('R² Score Comparison')\n",
        "plt.ylim(0.98, 1)\n",
        "\n",
        "# Plot RMSE\n",
        "plt.subplot(1, 2, 2)\n",
        "sns.barplot(x='Model', y='RMSE', data=metrics_df, palette='magma')\n",
        "plt.title('RMSE Comparison')\n",
        "plt.ylim(0, 0.12)\n",
        "\n",
        "plt.tight_layout()\n",
        "plt.show()\n"
      ],
      "metadata": {
        "id": "Dy61ujd6fxKe"
      },
      "execution_count": null,
      "outputs": []
    },
    {
      "cell_type": "markdown",
      "source": [
        "##### Which hyperparameter optimization technique have you used and why?"
      ],
      "metadata": {
        "id": "PiV4Ypx8fxKe"
      }
    },
    {
      "cell_type": "markdown",
      "source": [
        "We used GridSearchCV because it offers a comprehensive and reliable way to optimize hyperparameters when the search space is manageable. It ensures we pick the best model settings based on objective evaluation through cross-validation."
      ],
      "metadata": {
        "id": "negyGRa7fxKf"
      }
    },
    {
      "cell_type": "markdown",
      "source": [
        "##### Have you seen any improvement? Note down the improvement with updates Evaluation metric Score Chart."
      ],
      "metadata": {
        "id": "TfvqoZmBfxKf"
      }
    },
    {
      "cell_type": "markdown",
      "source": [
        "We implemented Linear Regression as our baseline model, achieving an excellent R² score of 0.988 and RMSE of 0.103. To improve further, we applied Ridge Regression with GridSearchCV, which optimized hyperparameters using cross-validation. This resulted in a slight performance boost with R² = 0.990 and RMSE = 0.096. The improvement shows the value of regularization and fine-tuning in achieving better generalization."
      ],
      "metadata": {
        "id": "OaLui8CcfxKf"
      }
    },
    {
      "cell_type": "markdown",
      "source": [
        "### ML Model - 2"
      ],
      "metadata": {
        "id": "dJ2tPlVmpsJ0"
      }
    },
    {
      "cell_type": "markdown",
      "source": [
        "#### 1. Explain the ML Model used and it's performance using Evaluation metric Score Chart."
      ],
      "metadata": {
        "id": "JWYfwnehpsJ1"
      }
    },
    {
      "cell_type": "code",
      "source": [
        "import matplotlib.pyplot as plt\n",
        "import seaborn as sns\n",
        "import pandas as pd\n",
        "\n",
        "# Model metrics\n",
        "metrics_data = {\n",
        "    'Model': ['Linear Regression', 'Ridge Regression (GridSearchCV)'],\n",
        "    'R² Score': [0.988, 0.990],\n",
        "    'RMSE': [0.103, 0.096]\n",
        "}\n",
        "\n",
        "# Convert to DataFrame\n",
        "metrics_df = pd.DataFrame(metrics_data)\n",
        "\n",
        "# Plot R² Score\n",
        "plt.figure(figsize=(10,4))\n",
        "plt.subplot(1, 2, 1)\n",
        "sns.barplot(x='Model', y='R² Score', data=metrics_df, palette='crest')\n",
        "plt.title('R² Score Comparison')\n",
        "plt.ylim(0.98, 1)\n",
        "\n",
        "# Plot RMSE\n",
        "plt.subplot(1, 2, 2)\n",
        "sns.barplot(x='Model', y='RMSE', data=metrics_df, palette='flare')\n",
        "plt.title('RMSE Comparison')\n",
        "plt.ylim(0, 0.12)\n",
        "\n",
        "plt.tight_layout()\n",
        "plt.show()\n"
      ],
      "metadata": {
        "id": "yEl-hgQWpsJ1"
      },
      "execution_count": null,
      "outputs": []
    },
    {
      "cell_type": "markdown",
      "source": [
        "#### 2. Cross- Validation & Hyperparameter Tuning"
      ],
      "metadata": {
        "id": "-jK_YjpMpsJ2"
      }
    },
    {
      "cell_type": "code",
      "source": [
        "import pandas as pd\n",
        "import seaborn as sns\n",
        "import matplotlib.pyplot as plt\n",
        "\n",
        "# Create a DataFrame of metrics\n",
        "metrics_data = {\n",
        "    'Model': ['Linear Regression', 'Ridge Regression (Tuned)'],\n",
        "    'R² Score': [0.988, 0.990],\n",
        "    'RMSE': [0.103, 0.096]\n",
        "}\n",
        "\n",
        "metrics_df = pd.DataFrame(metrics_data)\n",
        "\n",
        "# Plot R² Score comparison\n",
        "plt.figure(figsize=(10,4))\n",
        "plt.subplot(1, 2, 1)\n",
        "sns.barplot(x='Model', y='R² Score', data=metrics_df, palette='Blues_d')\n",
        "plt.title('R² Score Comparison')\n",
        "plt.ylim(0.97, 1)\n",
        "plt.xticks(rotation=20)\n",
        "\n",
        "# Plot RMSE comparison\n",
        "plt.subplot(1, 2, 2)\n",
        "sns.barplot(x='Model', y='RMSE', data=metrics_df, palette='Oranges_d')\n",
        "plt.title('RMSE Comparison')\n",
        "plt.ylim(0, 0.12)\n",
        "plt.xticks(rotation=20)\n",
        "\n",
        "plt.tight_layout()\n",
        "plt.show()\n"
      ],
      "metadata": {
        "id": "Dn0EOfS6psJ2"
      },
      "execution_count": null,
      "outputs": []
    },
    {
      "cell_type": "markdown",
      "source": [
        "##### Which hyperparameter optimization technique have you used and why?"
      ],
      "metadata": {
        "id": "HAih1iBOpsJ2"
      }
    },
    {
      "cell_type": "markdown",
      "source": [
        "We chose GridSearchCV because it ensures systematic and reliable optimization of hyperparameters with built-in cross-validation, especially effective for smaller search spaces like in Ridge Regression."
      ],
      "metadata": {
        "id": "9kBgjYcdpsJ2"
      }
    },
    {
      "cell_type": "markdown",
      "source": [
        "##### Have you seen any improvement? Note down the improvement with updates Evaluation metric Score Chart."
      ],
      "metadata": {
        "id": "zVGeBEFhpsJ2"
      }
    },
    {
      "cell_type": "markdown",
      "source": [
        "Hyperparameter tuning improved the model performance — making Ridge Regression more robust to multicollinearity and reducing overfitting compared to plain Linear Regression."
      ],
      "metadata": {
        "id": "74yRdG6UpsJ3"
      }
    },
    {
      "cell_type": "markdown",
      "source": [
        "#### 3. Explain each evaluation metric's indication towards business and the business impact pf the ML model used."
      ],
      "metadata": {
        "id": "bmKjuQ-FpsJ3"
      }
    },
    {
      "cell_type": "markdown",
      "source": [
        "The performance of our machine learning model was evaluated using two key metrics: R² Score and Root Mean Squared Error (RMSE). A high R² Score of 0.990 indicates that 99% of the variation in stock closing prices is accurately explained by the input variables (open, high, low). This level of precision enhances the model’s reliability in forecasting market behavior, enabling businesses to make well-informed trading and investment decisions. Additionally, the low RMSE of 0.096 suggests that the model's predictions deviate very little from actual values, minimizing potential financial losses caused by inaccurate estimations. Together, these metrics confirm that the model delivers significant business value by improving decision-making, reducing risk, and enhancing financial planning accuracy."
      ],
      "metadata": {
        "id": "BDKtOrBQpsJ3"
      }
    },
    {
      "cell_type": "markdown",
      "source": [
        "### ML Model - 3"
      ],
      "metadata": {
        "id": "Fze-IPXLpx6K"
      }
    },
    {
      "cell_type": "code",
      "source": [
        "# 🔹 Import necessary libraries\n",
        "from xgboost import XGBRegressor\n",
        "from sklearn.metrics import r2_score, mean_squared_error\n",
        "import numpy as np\n",
        "\n",
        "# 🔹 Convert DataFrames to NumPy arrays for compatibility with XGBoost\n",
        "X_train_np = X_train.values\n",
        "X_test_np = X_test.values\n",
        "y_train_np = y_train.values\n",
        "y_test_np = y_test.values\n",
        "\n",
        "# 🔹 Initialize the XGBoost Regressor\n",
        "xgb_model = XGBRegressor(objective='reg:squarederror', random_state=42)\n",
        "\n",
        "# 🔹 Fit the model\n",
        "xgb_model.fit(X_train_np, y_train_np)\n",
        "\n",
        "# 🔹 Predict on the test data\n",
        "xgb_predictions = xgb_model.predict(X_test_np)\n",
        "\n",
        "# 🔹 Evaluate the model\n",
        "xgb_r2 = r2_score(y_test_np, xgb_predictions)\n",
        "xgb_rmse = np.sqrt(mean_squared_error(y_test_np, xgb_predictions))\n",
        "\n",
        "# 🔹 Print results\n",
        "print(\"📊 XGBoost Regression Results:\")\n",
        "print(\"R² Score:\", round(xgb_r2, 4))\n",
        "print(\"RMSE:\", round(xgb_rmse, 4))\n"
      ],
      "metadata": {
        "id": "FFrSXAtrpx6M"
      },
      "execution_count": null,
      "outputs": []
    },
    {
      "cell_type": "markdown",
      "source": [
        "#### 1. Explain the ML Model used and it's performance using Evaluation metric Score Chart."
      ],
      "metadata": {
        "id": "7AN1z2sKpx6M"
      }
    },
    {
      "cell_type": "code",
      "source": [
        "import pandas as pd\n",
        "import matplotlib.pyplot as plt\n",
        "import seaborn as sns\n",
        "\n",
        "# Create a DataFrame with your actual results\n",
        "metrics_data = {\n",
        "    'Model': [\n",
        "        'Linear Regression',\n",
        "        'Ridge Regression (Tuned)',\n",
        "        'XGBoost Regressor'\n",
        "    ],\n",
        "    'R² Score': [0.988, 0.990, 0.9696],\n",
        "    'RMSE': [0.103, 0.096, 0.1629]\n",
        "}\n",
        "\n",
        "metrics_df = pd.DataFrame(metrics_data)\n",
        "\n",
        "# 📊 Plot the R² Score comparison\n",
        "plt.figure(figsize=(12, 5))\n",
        "\n",
        "plt.subplot(1, 2, 1)\n",
        "sns.barplot(x='Model', y='R² Score', data=metrics_df, palette='Greens')\n",
        "plt.title('Model Comparison - R² Score')\n",
        "plt.ylim(0.95, 1.0)\n",
        "plt.ylabel('R² Score')\n",
        "plt.xticks(rotation=15)\n",
        "\n",
        "# 📉 Plot the RMSE comparison\n",
        "plt.subplot(1, 2, 2)\n",
        "sns.barplot(x='Model', y='RMSE', data=metrics_df, palette='Oranges')\n",
        "plt.title('Model Comparison - RMSE')\n",
        "plt.ylim(0, 0.20)\n",
        "plt.ylabel('Root Mean Squared Error')\n",
        "plt.xticks(rotation=15)\n",
        "\n",
        "plt.tight_layout()\n",
        "plt.show()\n"
      ],
      "metadata": {
        "id": "xIY4lxxGpx6M"
      },
      "execution_count": null,
      "outputs": []
    },
    {
      "cell_type": "markdown",
      "source": [
        "#### 2. Cross- Validation & Hyperparameter Tuning"
      ],
      "metadata": {
        "id": "9PIHJqyupx6M"
      }
    },
    {
      "cell_type": "code",
      "source": [
        "# 🔹 Import required libraries\n",
        "from xgboost import XGBRegressor\n",
        "from sklearn.model_selection import GridSearchCV\n",
        "from sklearn.metrics import r2_score, mean_squared_error\n",
        "import numpy as np\n",
        "\n",
        "# 🔹 Convert DataFrames to NumPy arrays for compatibility\n",
        "X_train_np = X_train.values\n",
        "X_test_np = X_test.values\n",
        "y_train_np = y_train.values\n",
        "y_test_np = y_test.values\n",
        "\n",
        "# 🔹 Initialize base model\n",
        "xgb = XGBRegressor(objective='reg:squarederror', random_state=42)\n",
        "\n",
        "# 🔹 Define hyperparameter grid\n",
        "param_grid = {\n",
        "    'n_estimators': [50, 100, 150],\n",
        "    'max_depth': [3, 4, 5],\n",
        "    'learning_rate': [0.01, 0.05, 0.1]\n",
        "}\n",
        "\n",
        "# 🔹 Set up GridSearchCV\n",
        "grid_search = GridSearchCV(estimator=xgb,\n",
        "                           param_grid=param_grid,\n",
        "                           cv=3,\n",
        "                           scoring='r2',\n",
        "                           n_jobs=-1,\n",
        "                           verbose=1)\n",
        "\n",
        "# 🔹 Fit the model\n",
        "grid_search.fit(X_train_np, y_train_np)\n",
        "\n",
        "# 🔹 Best model from GridSearch\n",
        "best_xgb_model = grid_search.best_estimator_\n",
        "\n",
        "# 🔹 Predict using best model\n",
        "xgb_pred_tuned = best_xgb_model.predict(X_test_np)\n",
        "\n",
        "# 🔹 Evaluate performance\n",
        "xgb_r2_tuned = r2_score(y_test_np, xgb_pred_tuned)\n",
        "xgb_rmse_tuned = np.sqrt(mean_squared_error(y_test_np, xgb_pred_tuned))\n",
        "\n",
        "# 🔹 Print results\n",
        "print(\"🔧 Tuned XGBoost Results (GridSearchCV):\")\n",
        "print(\"Best Parameters:\", grid_search.best_params_)\n",
        "print(\"R² Score:\", round(xgb_r2_tuned, 4))\n",
        "print(\"RMSE:\", round(xgb_rmse_tuned, 4))\n"
      ],
      "metadata": {
        "id": "eSVXuaSKpx6M"
      },
      "execution_count": null,
      "outputs": []
    },
    {
      "cell_type": "markdown",
      "source": [
        "##### Which hyperparameter optimization technique have you used and why?"
      ],
      "metadata": {
        "id": "_-qAgymDpx6N"
      }
    },
    {
      "cell_type": "markdown",
      "source": [
        "We selected GridSearchCV because it is a systematic and dependable technique that ensures the model is trained with the most optimal set of parameters based on cross-validation performance. This helps improve the model's accuracy and reliability in real-world predictions."
      ],
      "metadata": {
        "id": "lQMffxkwpx6N"
      }
    },
    {
      "cell_type": "markdown",
      "source": [
        "##### Have you seen any improvement? Note down the improvement with updates Evaluation metric Score Chart."
      ],
      "metadata": {
        "id": "Z-hykwinpx6N"
      }
    },
    {
      "cell_type": "markdown",
      "source": [
        "Ridge Regression remains the most effective model for this dataset in terms of both accuracy and error. While XGBoost with hyperparameter tuning is slightly less accurate, it still provides a robust, scalable alternative that may perform better with larger or more complex datasets."
      ],
      "metadata": {
        "id": "MzVzZC6opx6N"
      }
    },
    {
      "cell_type": "markdown",
      "source": [
        "### 1. Which Evaluation metrics did you consider for a positive business impact and why?"
      ],
      "metadata": {
        "id": "h_CCil-SKHpo"
      }
    },
    {
      "cell_type": "markdown",
      "source": [
        "We considered R² Score (Coefficient of Determination) and RMSE (Root Mean Squared Error).These metrics were chosen because they directly reflect model accuracy and reliability, which are critical in stock price prediction where even small errors can lead to major financial consequences. Optimizing both helps the business make data-driven, low-risk decisions."
      ],
      "metadata": {
        "id": "jHVz9hHDKFms"
      }
    },
    {
      "cell_type": "markdown",
      "source": [
        "### 2. Which ML model did you choose from the above created models as your final prediction model and why?"
      ],
      "metadata": {
        "id": "cBFFvTBNJzUa"
      }
    },
    {
      "cell_type": "markdown",
      "source": [
        "After evaluating all the models based on their R² Score and RMSE, we selected the Ridge Regression (Tuned) model as the final prediction model.In a financial context, where even a small prediction error can lead to large monetary impacts, a low RMSE and high R² are essential. Ridge Regression offers a balanced trade-off between performance, generalization, and explainability, making it the most suitable for reliable stock price prediction."
      ],
      "metadata": {
        "id": "6ksF5Q1LKTVm"
      }
    },
    {
      "cell_type": "markdown",
      "source": [
        "### 3. Explain the model which you have used and the feature importance using any model explainability tool?"
      ],
      "metadata": {
        "id": "HvGl1hHyA_VK"
      }
    },
    {
      "cell_type": "markdown",
      "source": [
        "We chose Ridge Regression as the final model due to its high accuracy and simplicity. Being a linear model, we used its coefficients to determine feature importance. Features with larger absolute coefficients (like Open and High) had a stronger impact on the predicted closing price. This helped us understand which variables most influence market trends, supporting better business decisions."
      ],
      "metadata": {
        "id": "YnvVTiIxBL-C"
      }
    },
    {
      "cell_type": "markdown",
      "source": [
        "## ***8.*** ***Future Work (Optional)***"
      ],
      "metadata": {
        "id": "EyNgTHvd2WFk"
      }
    },
    {
      "cell_type": "markdown",
      "source": [
        "### 1. Save the best performing ml model in a pickle file or joblib file format for deployment process.\n"
      ],
      "metadata": {
        "id": "KH5McJBi2d8v"
      }
    },
    {
      "cell_type": "code",
      "source": [
        "from sklearn.linear_model import RidgeCV\n",
        "import pickle\n",
        "\n",
        "# 🔹 Train Ridge Regression with Cross-Validation\n",
        "ridge_model_tuned = RidgeCV(alphas=[0.1, 1.0, 10.0], cv=5)\n",
        "ridge_model_tuned.fit(X_train, y_train)\n",
        "\n",
        "# 🔹 Save the model as a .pkl file\n",
        "with open(\"ridge_model_tuned.pkl\", \"wb\") as f:\n",
        "    pickle.dump(ridge_model_tuned, f)\n",
        "\n",
        "print(\"✅ Ridge Regression model trained and saved as 'ridge_model_tuned.pkl'\")\n"
      ],
      "metadata": {
        "id": "bQIANRl32f4J"
      },
      "execution_count": null,
      "outputs": []
    },
    {
      "cell_type": "markdown",
      "source": [
        "### 2. Again Load the saved model file and try to predict unseen data for a sanity check.\n"
      ],
      "metadata": {
        "id": "iW_Lq9qf2h6X"
      }
    },
    {
      "cell_type": "code",
      "source": [
        "import pickle\n",
        "\n",
        "# 🔹 Load the saved model from the .pkl file\n",
        "with open(\"ridge_model_tuned.pkl\", \"rb\") as f:\n",
        "    loaded_model = pickle.load(f)\n",
        "\n",
        "# 🔹 Predict on unseen test data\n",
        "y_pred_loaded = loaded_model.predict(X_test)\n",
        "\n",
        "# 🔹 Display some predictions\n",
        "print(\"📊 Sample Predictions from Loaded Model:\")\n",
        "print(y_pred_loaded[:5])  # Show first 5 predictions\n"
      ],
      "metadata": {
        "id": "oEXk9ydD2nVC"
      },
      "execution_count": null,
      "outputs": []
    },
    {
      "cell_type": "markdown",
      "source": [
        "### ***Congrats! Your model is successfully created and ready for deployment on a live server for a real user interaction !!!***"
      ],
      "metadata": {
        "id": "-Kee-DAl2viO"
      }
    },
    {
      "cell_type": "markdown",
      "source": [
        "# **Conclusion**"
      ],
      "metadata": {
        "id": "gCX9965dhzqZ"
      }
    },
    {
      "cell_type": "markdown",
      "source": [
        "In this project, we developed a machine learning pipeline to predict stock closing prices using historical market data. Through thorough exploratory data analysis, feature engineering, and outlier/missing value handling, we prepared the dataset for modeling. We trained multiple regression models—Linear Regression, Ridge Regression, and XGBoost Regressor—and evaluated them using R² Score and RMSE.\n",
        "\n",
        "Among all models, Ridge Regression (Tuned) delivered the best performance with an R² Score of 0.990 and the lowest RMSE of 0.096, making it the final selected model. We also used GridSearchCV to optimize the XGBoost model, though it didn’t outperform the Ridge model. Finally, we saved the best model in .pkl format for deployment purposes.\n",
        "\n",
        "This solution provides a robust and interpretable foundation for stock price prediction, enabling informed financial decisions and paving the way for more advanced forecasting systems in future deployments."
      ],
      "metadata": {
        "id": "Fjb1IsQkh3yE"
      }
    },
    {
      "cell_type": "markdown",
      "source": [
        "### ***Hurrah! You have successfully completed your Machine Learning Capstone Project !!!***"
      ],
      "metadata": {
        "id": "gIfDvo9L0UH2"
      }
    }
  ]
}